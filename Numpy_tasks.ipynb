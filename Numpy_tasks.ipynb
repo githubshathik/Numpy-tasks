{
  "nbformat": 4,
  "nbformat_minor": 0,
  "metadata": {
    "kernelspec": {
      "display_name": "Python 3",
      "language": "python",
      "name": "python3"
    },
    "language_info": {
      "codemirror_mode": {
        "name": "ipython",
        "version": 3
      },
      "file_extension": ".py",
      "mimetype": "text/x-python",
      "name": "python",
      "nbconvert_exporter": "python",
      "pygments_lexer": "ipython3",
      "version": "3.8.3"
    },
    "colab": {
      "name": "Numpy_tasks.ipynb",
      "provenance": [],
      "collapsed_sections": [],
      "include_colab_link": true
    }
  },
  "cells": [
    {
      "cell_type": "markdown",
      "metadata": {
        "id": "view-in-github",
        "colab_type": "text"
      },
      "source": [
        "<a href=\"https://colab.research.google.com/github/githubshathik/Numpy-tasks/blob/shathik/Numpy_tasks.ipynb\" target=\"_parent\"><img src=\"https://colab.research.google.com/assets/colab-badge.svg\" alt=\"Open In Colab\"/></a>"
      ]
    },
    {
      "cell_type": "markdown",
      "metadata": {
        "id": "CD2gjCSm7eHF"
      },
      "source": [
        "\n",
        "GUVI -IITM Advance programming and Master data science\n",
        "\n",
        "Task Submission\n",
        "\n",
        "Name:Mohamed Shathik\n",
        "\n",
        "Task name:NUMPY-task"
      ]
    },
    {
      "cell_type": "markdown",
      "metadata": {
        "id": "QSygkwmW6wSH"
      },
      "source": [
        "# Numpy\n",
        "\n"
      ]
    },
    {
      "cell_type": "markdown",
      "metadata": {
        "id": "fZkkTCKd6wSP"
      },
      "source": [
        "#### 1. Import the numpy package under the name `np` (★☆☆) \n",
        "(**hint**: import … as …)"
      ]
    },
    {
      "cell_type": "code",
      "metadata": {
        "collapsed": true,
        "id": "jWdwazTS6wST"
      },
      "source": [
        "import numpy as np"
      ],
      "execution_count": 1,
      "outputs": []
    },
    {
      "cell_type": "markdown",
      "metadata": {
        "id": "qVKMWUby6wSW"
      },
      "source": [
        "#### 2. Print the numpy version and the configuration (★☆☆) \n",
        "(**hint**: np.\\_\\_version\\_\\_, np.show\\_config)"
      ]
    },
    {
      "cell_type": "code",
      "metadata": {
        "id": "Ud4d706P6wSZ",
        "colab": {
          "base_uri": "https://localhost:8080/"
        },
        "outputId": "129b1353-c3de-4543-a10b-b6a958f2af6f"
      },
      "source": [
        "print(np.__version__)\n",
        "np.show_config()"
      ],
      "execution_count": 5,
      "outputs": [
        {
          "output_type": "stream",
          "text": [
            "1.19.5\n",
            "blas_mkl_info:\n",
            "  NOT AVAILABLE\n",
            "blis_info:\n",
            "  NOT AVAILABLE\n",
            "openblas_info:\n",
            "    libraries = ['openblas', 'openblas']\n",
            "    library_dirs = ['/usr/local/lib']\n",
            "    language = c\n",
            "    define_macros = [('HAVE_CBLAS', None)]\n",
            "blas_opt_info:\n",
            "    libraries = ['openblas', 'openblas']\n",
            "    library_dirs = ['/usr/local/lib']\n",
            "    language = c\n",
            "    define_macros = [('HAVE_CBLAS', None)]\n",
            "lapack_mkl_info:\n",
            "  NOT AVAILABLE\n",
            "openblas_lapack_info:\n",
            "    libraries = ['openblas', 'openblas']\n",
            "    library_dirs = ['/usr/local/lib']\n",
            "    language = c\n",
            "    define_macros = [('HAVE_CBLAS', None)]\n",
            "lapack_opt_info:\n",
            "    libraries = ['openblas', 'openblas']\n",
            "    library_dirs = ['/usr/local/lib']\n",
            "    language = c\n",
            "    define_macros = [('HAVE_CBLAS', None)]\n"
          ],
          "name": "stdout"
        }
      ]
    },
    {
      "cell_type": "markdown",
      "metadata": {
        "id": "HNudxFZk6wSb"
      },
      "source": [
        "#### 3. Create a null vector of size 10 (★☆☆) \n",
        "(**hint**: np.zeros)"
      ]
    },
    {
      "cell_type": "code",
      "metadata": {
        "id": "yVd49O516wSg",
        "colab": {
          "base_uri": "https://localhost:8080/"
        },
        "outputId": "30fe3021-c509-4cc3-ca15-71108534cfc8"
      },
      "source": [
        "a=np.zeros(10)\n",
        "a"
      ],
      "execution_count": 7,
      "outputs": [
        {
          "output_type": "execute_result",
          "data": {
            "text/plain": [
              "array([0., 0., 0., 0., 0., 0., 0., 0., 0., 0.])"
            ]
          },
          "metadata": {},
          "execution_count": 7
        }
      ]
    },
    {
      "cell_type": "markdown",
      "metadata": {
        "id": "9708ZmXP6wSj"
      },
      "source": [
        "#### 4.  How to find the memory size of any array (★☆☆) \n",
        "(**hint**: size, itemsize)"
      ]
    },
    {
      "cell_type": "code",
      "metadata": {
        "id": "TwlTb2l76wSm",
        "colab": {
          "base_uri": "https://localhost:8080/"
        },
        "outputId": "23199054-62ac-4a5c-b299-93b1cdfce904"
      },
      "source": [
        "a.size"
      ],
      "execution_count": 8,
      "outputs": [
        {
          "output_type": "execute_result",
          "data": {
            "text/plain": [
              "10"
            ]
          },
          "metadata": {},
          "execution_count": 8
        }
      ]
    },
    {
      "cell_type": "code",
      "metadata": {
        "colab": {
          "base_uri": "https://localhost:8080/"
        },
        "id": "FicI6xlPo4YL",
        "outputId": "b80e63c9-b7eb-421e-dc0f-4fe622bb99a4"
      },
      "source": [
        "a.itemsize"
      ],
      "execution_count": 9,
      "outputs": [
        {
          "output_type": "execute_result",
          "data": {
            "text/plain": [
              "8"
            ]
          },
          "metadata": {},
          "execution_count": 9
        }
      ]
    },
    {
      "cell_type": "markdown",
      "metadata": {
        "id": "5iz7ECEF6wSs"
      },
      "source": [
        "#### 5.  How to get the documentation of the numpy add function from the command line? (★☆☆) \n",
        "(**hint**: np.info)"
      ]
    },
    {
      "cell_type": "code",
      "metadata": {
        "collapsed": true,
        "id": "GrtTGwE06wSv",
        "colab": {
          "base_uri": "https://localhost:8080/"
        },
        "outputId": "47deadbb-f172-4756-b917-e638f6be09fc"
      },
      "source": [
        "%run `python -c \"import numpy; numpy.info(numpy.add)\"`"
      ],
      "execution_count": 10,
      "outputs": [
        {
          "output_type": "stream",
          "text": [
            "ERROR:root:File `'`python.py'` not found.\n"
          ],
          "name": "stderr"
        }
      ]
    },
    {
      "cell_type": "markdown",
      "metadata": {
        "id": "JRYnSzU-6wSx"
      },
      "source": [
        "#### 6.  Create a null vector of size 10 but the fifth value which is 1 (★☆☆) \n",
        "(**hint**: array\\[4\\])"
      ]
    },
    {
      "cell_type": "code",
      "metadata": {
        "id": "9ecEtNHp6wS0",
        "colab": {
          "base_uri": "https://localhost:8080/"
        },
        "outputId": "4316440e-2317-496f-b35b-baf7a0dcad2d"
      },
      "source": [
        "Z = np.zeros(10)\n",
        "Z[4] = 1\n",
        "print(Z)"
      ],
      "execution_count": 11,
      "outputs": [
        {
          "output_type": "stream",
          "text": [
            "[0. 0. 0. 0. 1. 0. 0. 0. 0. 0.]\n"
          ],
          "name": "stdout"
        }
      ]
    },
    {
      "cell_type": "markdown",
      "metadata": {
        "id": "tnAIMZyS6wS1"
      },
      "source": [
        "#### 7.  Create a vector with values ranging from 10 to 49 (★☆☆) \n",
        "(**hint**: np.arange)"
      ]
    },
    {
      "cell_type": "code",
      "metadata": {
        "id": "LmhR14g36wS5",
        "colab": {
          "base_uri": "https://localhost:8080/"
        },
        "outputId": "e2856cc8-1b4e-4d2f-c935-aef64c35062f"
      },
      "source": [
        "Z = np.arange(10,50)\n",
        "print(Z)"
      ],
      "execution_count": 12,
      "outputs": [
        {
          "output_type": "stream",
          "text": [
            "[10 11 12 13 14 15 16 17 18 19 20 21 22 23 24 25 26 27 28 29 30 31 32 33\n",
            " 34 35 36 37 38 39 40 41 42 43 44 45 46 47 48 49]\n"
          ],
          "name": "stdout"
        }
      ]
    },
    {
      "cell_type": "markdown",
      "metadata": {
        "id": "u2O-ygA76wS6"
      },
      "source": [
        "#### 8.  Reverse a vector (first element becomes last) (★☆☆) \n",
        "(**hint**: array\\[::-1\\])"
      ]
    },
    {
      "cell_type": "code",
      "metadata": {
        "id": "bEIJ3FJt6wS8",
        "colab": {
          "base_uri": "https://localhost:8080/"
        },
        "outputId": "3c45a7b8-788c-4f34-f09c-e24b96a98518"
      },
      "source": [
        "Z = np.arange(50)\n",
        "Z = Z[::-1]\n",
        "print(Z)"
      ],
      "execution_count": 13,
      "outputs": [
        {
          "output_type": "stream",
          "text": [
            "[49 48 47 46 45 44 43 42 41 40 39 38 37 36 35 34 33 32 31 30 29 28 27 26\n",
            " 25 24 23 22 21 20 19 18 17 16 15 14 13 12 11 10  9  8  7  6  5  4  3  2\n",
            "  1  0]\n"
          ],
          "name": "stdout"
        }
      ]
    },
    {
      "cell_type": "markdown",
      "metadata": {
        "id": "mJdUacBA6wS9"
      },
      "source": [
        "#### 9.  Create a 3x3 matrix with values ranging from 0 to 8 (★☆☆) \n",
        "(**hint**: reshape)"
      ]
    },
    {
      "cell_type": "code",
      "metadata": {
        "id": "SNcR8jQd6wS_",
        "colab": {
          "base_uri": "https://localhost:8080/"
        },
        "outputId": "3cbf8a36-33f6-4ce4-e12f-ab16f4955d3e"
      },
      "source": [
        "Z = np.arange(9).reshape(3,3)\n",
        "print(Z)"
      ],
      "execution_count": 14,
      "outputs": [
        {
          "output_type": "stream",
          "text": [
            "[[0 1 2]\n",
            " [3 4 5]\n",
            " [6 7 8]]\n"
          ],
          "name": "stdout"
        }
      ]
    },
    {
      "cell_type": "markdown",
      "metadata": {
        "id": "1_ubN-HU6wTB"
      },
      "source": [
        "#### 10. Find indices of non-zero elements from \\[1,2,0,0,4,0\\] (★☆☆) \n",
        "(**hint**: np.nonzero)"
      ]
    },
    {
      "cell_type": "code",
      "metadata": {
        "id": "dq3dn6TH6wTC",
        "colab": {
          "base_uri": "https://localhost:8080/"
        },
        "outputId": "61f9f198-bcfd-46ae-a853-611290ab5255"
      },
      "source": [
        "nz = np.nonzero([1,2,0,0,4,0])\n",
        "print(nz)"
      ],
      "execution_count": 15,
      "outputs": [
        {
          "output_type": "stream",
          "text": [
            "(array([0, 1, 4]),)\n"
          ],
          "name": "stdout"
        }
      ]
    },
    {
      "cell_type": "markdown",
      "metadata": {
        "id": "EUNhiO966wTD"
      },
      "source": [
        "#### 11. Create a 3x3 identity matrix (★☆☆) \n",
        "(**hint**: np.eye)"
      ]
    },
    {
      "cell_type": "code",
      "metadata": {
        "id": "wl1oJtbn6wTE",
        "colab": {
          "base_uri": "https://localhost:8080/"
        },
        "outputId": "bc02ca6d-edb4-422b-e32d-0098c71b66d7"
      },
      "source": [
        "Z = np.eye(3)\n",
        "print(Z)"
      ],
      "execution_count": 16,
      "outputs": [
        {
          "output_type": "stream",
          "text": [
            "[[1. 0. 0.]\n",
            " [0. 1. 0.]\n",
            " [0. 0. 1.]]\n"
          ],
          "name": "stdout"
        }
      ]
    },
    {
      "cell_type": "markdown",
      "metadata": {
        "id": "iJkFht4Y6wTE"
      },
      "source": [
        "#### 12. Create a 3x3x3 array with random values (★☆☆) \n",
        "(**hint**: np.random.random)"
      ]
    },
    {
      "cell_type": "code",
      "metadata": {
        "collapsed": true,
        "id": "ndxgdqyf6wTF",
        "colab": {
          "base_uri": "https://localhost:8080/"
        },
        "outputId": "c2d2ef69-6df4-4bc7-bd01-38edb80ba493"
      },
      "source": [
        "Z = np.random.random((3,3,3))\n",
        "print(Z)"
      ],
      "execution_count": 17,
      "outputs": [
        {
          "output_type": "stream",
          "text": [
            "[[[0.74903244 0.06765384 0.47574868]\n",
            "  [0.33090197 0.14390849 0.22634569]\n",
            "  [0.29002336 0.6332688  0.01647757]]\n",
            "\n",
            " [[0.18622946 0.48141235 0.91474527]\n",
            "  [0.32601034 0.32134494 0.06236607]\n",
            "  [0.92390829 0.59485468 0.22123071]]\n",
            "\n",
            " [[0.42891723 0.082299   0.29935221]\n",
            "  [0.74687194 0.42438422 0.28646607]\n",
            "  [0.06107426 0.68449432 0.84384981]]]\n"
          ],
          "name": "stdout"
        }
      ]
    },
    {
      "cell_type": "markdown",
      "metadata": {
        "id": "Ac1EmuIR6wTG"
      },
      "source": [
        "#### 13. Create a 10x10 array with random values and find the minimum and maximum values (★☆☆) \n",
        "(**hint**: min, max)"
      ]
    },
    {
      "cell_type": "code",
      "metadata": {
        "id": "58QGXxyw6wTG",
        "colab": {
          "base_uri": "https://localhost:8080/"
        },
        "outputId": "4897bcf5-de0b-4d30-c5b3-2de40cd8ae8c"
      },
      "source": [
        "Z = np.random.random((10,10))\n",
        "Zmin, Zmax = Z.min(), Z.max()\n",
        "print(Zmin, Zmax)"
      ],
      "execution_count": 18,
      "outputs": [
        {
          "output_type": "stream",
          "text": [
            "0.0009242743381536744 0.9929611160782096\n"
          ],
          "name": "stdout"
        }
      ]
    },
    {
      "cell_type": "markdown",
      "metadata": {
        "id": "pybZV5Kj6wTH"
      },
      "source": [
        "#### 14. Create a random vector of size 30 and find the mean value (★☆☆) \n",
        "(**hint**: mean)"
      ]
    },
    {
      "cell_type": "code",
      "metadata": {
        "id": "8s0-8yvK6wTI",
        "colab": {
          "base_uri": "https://localhost:8080/"
        },
        "outputId": "3dc9b5d2-c6e1-498b-922f-e4611ee05224"
      },
      "source": [
        "Z = np.random.random(30)\n",
        "m = Z.mean()\n",
        "print(m)"
      ],
      "execution_count": 19,
      "outputs": [
        {
          "output_type": "stream",
          "text": [
            "0.4732814905718488\n"
          ],
          "name": "stdout"
        }
      ]
    },
    {
      "cell_type": "markdown",
      "metadata": {
        "id": "S4VjW5ue6wTI"
      },
      "source": [
        "#### 15. Create a 2d array with 1 on the border and 0 inside (★☆☆) \n",
        "(**hint**: array\\[1:-1, 1:-1\\])"
      ]
    },
    {
      "cell_type": "code",
      "metadata": {
        "id": "1CkBYxHp6wTJ",
        "colab": {
          "base_uri": "https://localhost:8080/"
        },
        "outputId": "2bf061f8-2e69-44aa-a6f8-7e797bbe4eba"
      },
      "source": [
        "Z = np.ones((10,10))\n",
        "Z[1:-1,1:-1] = 0\n",
        "print(Z)"
      ],
      "execution_count": 20,
      "outputs": [
        {
          "output_type": "stream",
          "text": [
            "[[1. 1. 1. 1. 1. 1. 1. 1. 1. 1.]\n",
            " [1. 0. 0. 0. 0. 0. 0. 0. 0. 1.]\n",
            " [1. 0. 0. 0. 0. 0. 0. 0. 0. 1.]\n",
            " [1. 0. 0. 0. 0. 0. 0. 0. 0. 1.]\n",
            " [1. 0. 0. 0. 0. 0. 0. 0. 0. 1.]\n",
            " [1. 0. 0. 0. 0. 0. 0. 0. 0. 1.]\n",
            " [1. 0. 0. 0. 0. 0. 0. 0. 0. 1.]\n",
            " [1. 0. 0. 0. 0. 0. 0. 0. 0. 1.]\n",
            " [1. 0. 0. 0. 0. 0. 0. 0. 0. 1.]\n",
            " [1. 1. 1. 1. 1. 1. 1. 1. 1. 1.]]\n"
          ],
          "name": "stdout"
        }
      ]
    },
    {
      "cell_type": "markdown",
      "metadata": {
        "id": "RIlFY7556wTJ"
      },
      "source": [
        "#### 16. How to add a border (filled with 0's) around an existing array? (★☆☆) \n",
        "(**hint**: np.pad)"
      ]
    },
    {
      "cell_type": "code",
      "metadata": {
        "id": "7aexXLxe6wTK",
        "colab": {
          "base_uri": "https://localhost:8080/"
        },
        "outputId": "24a3466a-a62b-43ae-8b09-cab474d60623"
      },
      "source": [
        "Z = np.ones((5,5))\n",
        "Z = np.pad(Z, pad_width=1, mode='constant', constant_values=0)\n",
        "print(Z)"
      ],
      "execution_count": 21,
      "outputs": [
        {
          "output_type": "stream",
          "text": [
            "[[0. 0. 0. 0. 0. 0. 0.]\n",
            " [0. 1. 1. 1. 1. 1. 0.]\n",
            " [0. 1. 1. 1. 1. 1. 0.]\n",
            " [0. 1. 1. 1. 1. 1. 0.]\n",
            " [0. 1. 1. 1. 1. 1. 0.]\n",
            " [0. 1. 1. 1. 1. 1. 0.]\n",
            " [0. 0. 0. 0. 0. 0. 0.]]\n"
          ],
          "name": "stdout"
        }
      ]
    },
    {
      "cell_type": "markdown",
      "metadata": {
        "id": "fSoBRCwN6wTK"
      },
      "source": [
        "#### 17. What is the result of the following expression? (★☆☆) \n",
        "(**hint**: NaN = not a number, inf = infinity)"
      ]
    },
    {
      "cell_type": "markdown",
      "metadata": {
        "id": "hUIXuhzm6wTL"
      },
      "source": [
        "```python\n",
        "0 * np.nan\n",
        "np.nan == np.nan\n",
        "np.inf > np.nan\n",
        "np.nan - np.nan\n",
        "0.3 == 3 * 0.1\n",
        "```"
      ]
    },
    {
      "cell_type": "code",
      "metadata": {
        "id": "dgjjEewH6wTM",
        "colab": {
          "base_uri": "https://localhost:8080/"
        },
        "outputId": "a19e62ae-2b29-44e5-ee94-2f9033ad6c73"
      },
      "source": [
        "print(0 * np.nan)\n",
        "print(np.nan == np.nan)\n",
        "print(np.inf > np.nan)\n",
        "print(np.nan - np.nan)\n",
        "print(np.nan in set([np.nan]))\n",
        "print(0.3 == 3 * 0.1)"
      ],
      "execution_count": 22,
      "outputs": [
        {
          "output_type": "stream",
          "text": [
            "nan\n",
            "False\n",
            "False\n",
            "nan\n",
            "True\n",
            "False\n"
          ],
          "name": "stdout"
        }
      ]
    },
    {
      "cell_type": "markdown",
      "metadata": {
        "id": "4rdIoWdY6wTM"
      },
      "source": [
        "#### 18. Create a 5x5 matrix with values 1,2,3,4 just below the diagonal (★☆☆) \n",
        "(**hint**: np.diag)"
      ]
    },
    {
      "cell_type": "code",
      "metadata": {
        "id": "3-yeUbXI6wTM",
        "colab": {
          "base_uri": "https://localhost:8080/"
        },
        "outputId": "004e0294-5f0f-45a8-a576-013abcd6644e"
      },
      "source": [
        "Z = np.diag(1+np.arange(4),k=-1)\n",
        "print(Z)"
      ],
      "execution_count": 23,
      "outputs": [
        {
          "output_type": "stream",
          "text": [
            "[[0 0 0 0 0]\n",
            " [1 0 0 0 0]\n",
            " [0 2 0 0 0]\n",
            " [0 0 3 0 0]\n",
            " [0 0 0 4 0]]\n"
          ],
          "name": "stdout"
        }
      ]
    },
    {
      "cell_type": "markdown",
      "metadata": {
        "id": "BcCPtq146wTN"
      },
      "source": [
        "#### 19. Create a 8x8 matrix and fill it with a checkerboard pattern (★☆☆) \n",
        "(**hint**: array\\[::2\\])"
      ]
    },
    {
      "cell_type": "code",
      "metadata": {
        "id": "9hQiTUnr6wTN",
        "colab": {
          "base_uri": "https://localhost:8080/"
        },
        "outputId": "9533f034-f530-4552-d075-9014ab81bd7b"
      },
      "source": [
        "Z = np.zeros((8,8),dtype=int)\n",
        "Z[1::2,::2] = 1\n",
        "Z[::2,1::2] = 1\n",
        "print(Z)"
      ],
      "execution_count": 24,
      "outputs": [
        {
          "output_type": "stream",
          "text": [
            "[[0 1 0 1 0 1 0 1]\n",
            " [1 0 1 0 1 0 1 0]\n",
            " [0 1 0 1 0 1 0 1]\n",
            " [1 0 1 0 1 0 1 0]\n",
            " [0 1 0 1 0 1 0 1]\n",
            " [1 0 1 0 1 0 1 0]\n",
            " [0 1 0 1 0 1 0 1]\n",
            " [1 0 1 0 1 0 1 0]]\n"
          ],
          "name": "stdout"
        }
      ]
    },
    {
      "cell_type": "markdown",
      "metadata": {
        "id": "4ZHE52ib6wTN"
      },
      "source": [
        "#### 20. Consider a (6,7,8) shape array, what is the index (x,y,z) of the 100th element? \n",
        "(**hint**: np.unravel_index)"
      ]
    },
    {
      "cell_type": "code",
      "metadata": {
        "id": "yM7rnO9O6wTO",
        "colab": {
          "base_uri": "https://localhost:8080/"
        },
        "outputId": "831f449a-ddc8-44b5-9307-b910cb9045da"
      },
      "source": [
        "print(np.unravel_index(100,(6,7,8)))"
      ],
      "execution_count": 25,
      "outputs": [
        {
          "output_type": "stream",
          "text": [
            "(1, 5, 4)\n"
          ],
          "name": "stdout"
        }
      ]
    },
    {
      "cell_type": "markdown",
      "metadata": {
        "id": "IhmXqIEb6wTO"
      },
      "source": [
        "#### 21. Create a checkerboard 8x8 matrix using the tile function (★☆☆) \n",
        "(**hint**: np.tile)"
      ]
    },
    {
      "cell_type": "code",
      "metadata": {
        "id": "J7I4c73a6wTP",
        "colab": {
          "base_uri": "https://localhost:8080/"
        },
        "outputId": "7c7b4fb6-ffcf-4130-9e3b-36cbf50e710d"
      },
      "source": [
        "Z = np.tile( np.array([[0,1],[1,0]]), (4,4))\n",
        "print(Z)"
      ],
      "execution_count": 26,
      "outputs": [
        {
          "output_type": "stream",
          "text": [
            "[[0 1 0 1 0 1 0 1]\n",
            " [1 0 1 0 1 0 1 0]\n",
            " [0 1 0 1 0 1 0 1]\n",
            " [1 0 1 0 1 0 1 0]\n",
            " [0 1 0 1 0 1 0 1]\n",
            " [1 0 1 0 1 0 1 0]\n",
            " [0 1 0 1 0 1 0 1]\n",
            " [1 0 1 0 1 0 1 0]]\n"
          ],
          "name": "stdout"
        }
      ]
    },
    {
      "cell_type": "markdown",
      "metadata": {
        "id": "yIOwG4HC6wTP"
      },
      "source": [
        "#### 22. Normalize a 5x5 random matrix (★☆☆) \n",
        "(**hint**: (x - min) / (max - min))"
      ]
    },
    {
      "cell_type": "code",
      "metadata": {
        "id": "gwcOFpBq6wTP",
        "colab": {
          "base_uri": "https://localhost:8080/"
        },
        "outputId": "9aa773f6-b37e-4df4-995a-422ca95df4b7"
      },
      "source": [
        "Z = np.random.random((5,5))\n",
        "Z = (Z - np.mean (Z)) / (np.std (Z))\n",
        "print(Z)"
      ],
      "execution_count": 27,
      "outputs": [
        {
          "output_type": "stream",
          "text": [
            "[[ 1.71639184 -1.0622833  -1.6454035   0.27127858 -0.59151973]\n",
            " [ 0.47402317  0.69867767  0.57269012 -1.05141755 -1.17614914]\n",
            " [ 0.78624358 -1.66993194  0.0556757  -0.5393433   0.70603855]\n",
            " [ 0.31687408  1.66534174 -0.97671353 -0.4563099  -0.17206086]\n",
            " [-0.59995606  0.57722327  1.82277589  1.12531947 -0.84746486]]\n"
          ],
          "name": "stdout"
        }
      ]
    },
    {
      "cell_type": "markdown",
      "metadata": {
        "id": "Dzg_z1LU6wTQ"
      },
      "source": [
        "#### 23. Create a custom dtype that describes a color as four unsigned bytes (RGBA) (★☆☆) \n",
        "(**hint**: np.dtype)"
      ]
    },
    {
      "cell_type": "code",
      "metadata": {
        "collapsed": true,
        "id": "6fDjdlbb6wTQ",
        "colab": {
          "base_uri": "https://localhost:8080/"
        },
        "outputId": "4d1c4e84-ae41-4018-fd74-b909ab258811"
      },
      "source": [
        "color = np.dtype([(\"r\", np.ubyte, 1),\n",
        "                  (\"g\", np.ubyte, 1),\n",
        "                  (\"b\", np.ubyte, 1),\n",
        "                  (\"a\", np.ubyte, 1)])\n",
        "print(color)"
      ],
      "execution_count": 29,
      "outputs": [
        {
          "output_type": "stream",
          "text": [
            "[('r', 'u1'), ('g', 'u1'), ('b', 'u1'), ('a', 'u1')]\n"
          ],
          "name": "stdout"
        },
        {
          "output_type": "stream",
          "text": [
            "/usr/local/lib/python3.7/dist-packages/ipykernel_launcher.py:4: FutureWarning: Passing (type, 1) or '1type' as a synonym of type is deprecated; in a future version of numpy, it will be understood as (type, (1,)) / '(1,)type'.\n",
            "  after removing the cwd from sys.path.\n"
          ],
          "name": "stderr"
        }
      ]
    },
    {
      "cell_type": "markdown",
      "metadata": {
        "id": "t1wtypO16wTQ"
      },
      "source": [
        "#### 24. Multiply a 5x3 matrix by a 3x2 matrix (real matrix product) (★☆☆) \n",
        "(**hint**: np.dot | @)"
      ]
    },
    {
      "cell_type": "code",
      "metadata": {
        "id": "jw3WyLrL6wTQ",
        "colab": {
          "base_uri": "https://localhost:8080/"
        },
        "outputId": "97f8ee24-3908-46e6-aa3b-7f274e2962e2"
      },
      "source": [
        "Z = np.dot(np.ones((5,3)), np.ones((3,2)))\n",
        "print(Z)\n",
        "\n",
        "# Alternative solution, in Python 3.5 and above\n",
        "Z = np.ones((5,3)) @ np.ones((3,2))"
      ],
      "execution_count": 30,
      "outputs": [
        {
          "output_type": "stream",
          "text": [
            "[[3. 3.]\n",
            " [3. 3.]\n",
            " [3. 3.]\n",
            " [3. 3.]\n",
            " [3. 3.]]\n"
          ],
          "name": "stdout"
        }
      ]
    },
    {
      "cell_type": "markdown",
      "metadata": {
        "id": "ZUk3j1Hi6wTR"
      },
      "source": [
        "#### 25. Given a 1D array, negate all elements which are between 3 and 8, in place. (★☆☆) \n",
        "(**hint**: >, <=)"
      ]
    },
    {
      "cell_type": "code",
      "metadata": {
        "id": "lCb_mloT6wTR",
        "colab": {
          "base_uri": "https://localhost:8080/"
        },
        "outputId": "376aca8a-4d65-4e2c-b97a-886af3d98767"
      },
      "source": [
        "Z = np.arange(11)\n",
        "Z[(3 < Z) & (Z <= 8)] *= -1\n",
        "print(Z)"
      ],
      "execution_count": 31,
      "outputs": [
        {
          "output_type": "stream",
          "text": [
            "[ 0  1  2  3 -4 -5 -6 -7 -8  9 10]\n"
          ],
          "name": "stdout"
        }
      ]
    },
    {
      "cell_type": "markdown",
      "metadata": {
        "id": "Ls6b_8tg6wTR"
      },
      "source": [
        "#### 26. What is the output of the following script? (★☆☆) \n",
        "(**hint**: np.sum)"
      ]
    },
    {
      "cell_type": "markdown",
      "metadata": {
        "id": "SB8CanAS6wTS"
      },
      "source": [
        "```python\n",
        "# Author: Jake VanderPlas\n",
        "\n",
        "print(sum(range(5),-1))\n",
        "from numpy import *\n",
        "print(sum(range(5),-1))\n",
        "```"
      ]
    },
    {
      "cell_type": "code",
      "metadata": {
        "id": "DCSNifXI6wTS",
        "colab": {
          "base_uri": "https://localhost:8080/"
        },
        "outputId": "c0d55e53-d131-4f90-9554-24dd509c0d8d"
      },
      "source": [
        " \n",
        "print(sum(range(5),-1))\n",
        "from numpy import *\n",
        "print(sum(range(5),-1))"
      ],
      "execution_count": 32,
      "outputs": [
        {
          "output_type": "stream",
          "text": [
            "9\n",
            "10\n"
          ],
          "name": "stdout"
        }
      ]
    },
    {
      "cell_type": "markdown",
      "metadata": {
        "id": "WbPm_E4Y6wTS"
      },
      "source": [
        "#### 27. Consider an integer vector Z, which of these expressions are legal? (★☆☆)"
      ]
    },
    {
      "cell_type": "markdown",
      "metadata": {
        "id": "bQJBbJ7r6wTT"
      },
      "source": [
        "```python\n",
        "Z**Z\n",
        "2 << Z >> 2\n",
        "Z <- Z\n",
        "1j*Z\n",
        "Z/1/1\n",
        "Z<Z>Z\n",
        "```"
      ]
    },
    {
      "cell_type": "code",
      "metadata": {
        "id": "oiPLvi6E6wTT",
        "colab": {
          "base_uri": "https://localhost:8080/",
          "height": 231
        },
        "outputId": "d043d833-4476-474b-9501-127b66300367"
      },
      "source": [
        "Z**Z\n",
        "2 << Z >> 2\n",
        "Z <- Z\n",
        "1j*Z\n",
        "Z/1/1\n",
        "Z<Z>Z"
      ],
      "execution_count": 33,
      "outputs": [
        {
          "output_type": "error",
          "ename": "ValueError",
          "evalue": "ignored",
          "traceback": [
            "\u001b[0;31m---------------------------------------------------------------------------\u001b[0m",
            "\u001b[0;31mValueError\u001b[0m                                Traceback (most recent call last)",
            "\u001b[0;32m<ipython-input-33-4e3654d03fce>\u001b[0m in \u001b[0;36m<module>\u001b[0;34m()\u001b[0m\n\u001b[0;32m----> 1\u001b[0;31m \u001b[0mZ\u001b[0m\u001b[0;34m**\u001b[0m\u001b[0mZ\u001b[0m\u001b[0;34m\u001b[0m\u001b[0;34m\u001b[0m\u001b[0m\n\u001b[0m\u001b[1;32m      2\u001b[0m \u001b[0;36m2\u001b[0m \u001b[0;34m<<\u001b[0m \u001b[0mZ\u001b[0m \u001b[0;34m>>\u001b[0m \u001b[0;36m2\u001b[0m\u001b[0;34m\u001b[0m\u001b[0;34m\u001b[0m\u001b[0m\n\u001b[1;32m      3\u001b[0m \u001b[0mZ\u001b[0m \u001b[0;34m<\u001b[0m\u001b[0;34m-\u001b[0m \u001b[0mZ\u001b[0m\u001b[0;34m\u001b[0m\u001b[0;34m\u001b[0m\u001b[0m\n\u001b[1;32m      4\u001b[0m \u001b[0;36m1j\u001b[0m\u001b[0;34m*\u001b[0m\u001b[0mZ\u001b[0m\u001b[0;34m\u001b[0m\u001b[0;34m\u001b[0m\u001b[0m\n\u001b[1;32m      5\u001b[0m \u001b[0mZ\u001b[0m\u001b[0;34m/\u001b[0m\u001b[0;36m1\u001b[0m\u001b[0;34m/\u001b[0m\u001b[0;36m1\u001b[0m\u001b[0;34m\u001b[0m\u001b[0;34m\u001b[0m\u001b[0m\n",
            "\u001b[0;31mValueError\u001b[0m: Integers to negative integer powers are not allowed."
          ]
        }
      ]
    },
    {
      "cell_type": "markdown",
      "metadata": {
        "id": "MfaWP6Ai6wTT"
      },
      "source": [
        "#### 28. What are the result of the following expressions?"
      ]
    },
    {
      "cell_type": "markdown",
      "metadata": {
        "id": "L9SDO-Cf6wTT"
      },
      "source": [
        "```python\n",
        "np.array(0) / np.array(0)\n",
        "np.array(0) // np.array(0)\n",
        "np.array([np.nan]).astype(int).astype(float)\n",
        "```"
      ]
    },
    {
      "cell_type": "code",
      "metadata": {
        "id": "6ZTClktJ6wTU",
        "colab": {
          "base_uri": "https://localhost:8080/"
        },
        "outputId": "4b5a5da1-c808-4e18-d5e8-d08d94b272c5"
      },
      "source": [
        "print(np.array(0) / np.array(0))\n",
        "print(np.array(0) // np.array(0))\n",
        "print(np.array([np.nan]).astype(int).astype(float))"
      ],
      "execution_count": 34,
      "outputs": [
        {
          "output_type": "stream",
          "text": [
            "nan\n",
            "0\n",
            "[-9.22337204e+18]\n"
          ],
          "name": "stdout"
        },
        {
          "output_type": "stream",
          "text": [
            "/usr/local/lib/python3.7/dist-packages/ipykernel_launcher.py:1: RuntimeWarning: invalid value encountered in true_divide\n",
            "  \"\"\"Entry point for launching an IPython kernel.\n",
            "/usr/local/lib/python3.7/dist-packages/ipykernel_launcher.py:2: RuntimeWarning: divide by zero encountered in floor_divide\n",
            "  \n"
          ],
          "name": "stderr"
        }
      ]
    },
    {
      "cell_type": "markdown",
      "metadata": {
        "id": "f0Kc9f586wTU"
      },
      "source": [
        "#### 29. How to round away from zero a float array ? (★☆☆) \n",
        "(**hint**: np.uniform, np.copysign, np.ceil, np.abs)"
      ]
    },
    {
      "cell_type": "code",
      "metadata": {
        "id": "Z7qVc_Pr6wTU",
        "colab": {
          "base_uri": "https://localhost:8080/"
        },
        "outputId": "ce12a245-7cfb-4770-908e-9159ebd07594"
      },
      "source": [
        "Z = np.random.uniform(-10,+10,10)\n",
        "print (np.copysign(np.ceil(np.abs(Z)), Z))"
      ],
      "execution_count": 35,
      "outputs": [
        {
          "output_type": "stream",
          "text": [
            "[10. -7. 10. -9.  3.  1. -5.  8. 10. 10.]\n"
          ],
          "name": "stdout"
        }
      ]
    },
    {
      "cell_type": "markdown",
      "metadata": {
        "id": "zbC9m0a26wTV"
      },
      "source": [
        "#### 30. How to find common values between two arrays? (★☆☆) \n",
        "(**hint**: np.intersect1d)"
      ]
    },
    {
      "cell_type": "code",
      "metadata": {
        "id": "75fbn1b86wTV",
        "colab": {
          "base_uri": "https://localhost:8080/"
        },
        "outputId": "43b684dd-c082-4850-cd93-4f0e7d15ee0e"
      },
      "source": [
        "Z1 = np.random.randint(0,10,10)\n",
        "Z2 = np.random.randint(0,10,10)\n",
        "print(np.intersect1d(Z1,Z2))"
      ],
      "execution_count": 36,
      "outputs": [
        {
          "output_type": "stream",
          "text": [
            "[0 4 6]\n"
          ],
          "name": "stdout"
        }
      ]
    },
    {
      "cell_type": "markdown",
      "metadata": {
        "id": "oFnYTz_S6wTV"
      },
      "source": [
        "#### 31. How to ignore all numpy warnings (not recommended)? (★☆☆) \n",
        "(**hint**: np.seterr, np.errstate)"
      ]
    },
    {
      "cell_type": "code",
      "metadata": {
        "id": "xqq1Trj26wTV",
        "colab": {
          "base_uri": "https://localhost:8080/",
          "height": 129
        },
        "outputId": "0ad32769-a62c-4f1a-dee6-491ddb0248c5"
      },
      "source": [
        "# Suicide mode on\n",
        "defaults = np.seterr(all=\"ignore\")\n",
        "Z = np.ones(1) / 0\n",
        "\n",
        "# Back to sanity\n",
        "_ = np.seterr(**defaults)\n",
        "\n",
        "An equivalent way, with a context manager:\n",
        "\n",
        "with np.errstate(divide='ignore'):\n",
        "    Z = np.ones(1) / 0"
      ],
      "execution_count": 37,
      "outputs": [
        {
          "output_type": "error",
          "ename": "SyntaxError",
          "evalue": "ignored",
          "traceback": [
            "\u001b[0;36m  File \u001b[0;32m\"<ipython-input-37-0437b6d2f8fa>\"\u001b[0;36m, line \u001b[0;32m8\u001b[0m\n\u001b[0;31m    An equivalent way, with a context manager:\u001b[0m\n\u001b[0m                ^\u001b[0m\n\u001b[0;31mSyntaxError\u001b[0m\u001b[0;31m:\u001b[0m invalid syntax\n"
          ]
        }
      ]
    },
    {
      "cell_type": "markdown",
      "metadata": {
        "id": "6Cg3uXok6wTW"
      },
      "source": [
        "#### 32. Is the following expressions true? (★☆☆) \n",
        "(**hint**: imaginary number)"
      ]
    },
    {
      "cell_type": "markdown",
      "metadata": {
        "id": "zP-9Z4F26wTW"
      },
      "source": [
        "```python\n",
        "np.sqrt(-1) == np.emath.sqrt(-1)\n",
        "```"
      ]
    },
    {
      "cell_type": "code",
      "metadata": {
        "id": "2fnMWmSs6wTW",
        "colab": {
          "base_uri": "https://localhost:8080/"
        },
        "outputId": "346870af-ffff-4ec9-ac15-81f6475ff908"
      },
      "source": [
        "np.sqrt(-1) == np.emath.sqrt(-1)"
      ],
      "execution_count": 38,
      "outputs": [
        {
          "output_type": "stream",
          "text": [
            "/usr/local/lib/python3.7/dist-packages/ipykernel_launcher.py:1: RuntimeWarning: invalid value encountered in sqrt\n",
            "  \"\"\"Entry point for launching an IPython kernel.\n"
          ],
          "name": "stderr"
        },
        {
          "output_type": "execute_result",
          "data": {
            "text/plain": [
              "False"
            ]
          },
          "metadata": {},
          "execution_count": 38
        }
      ]
    },
    {
      "cell_type": "markdown",
      "metadata": {
        "id": "RmQk6B5C6wTX"
      },
      "source": [
        "#### 33. How to get the dates of yesterday, today and tomorrow? (★☆☆) \n",
        "(**hint**: np.datetime64, np.timedelta64)"
      ]
    },
    {
      "cell_type": "code",
      "metadata": {
        "collapsed": true,
        "id": "lbAgZN9F6wTX"
      },
      "source": [
        "yesterday = np.datetime64('today', 'D') - np.timedelta64(1, 'D')\n",
        "today     = np.datetime64('today', 'D')\n",
        "tomorrow  = np.datetime64('today', 'D') + np.timedelta64(1, 'D')"
      ],
      "execution_count": 39,
      "outputs": []
    },
    {
      "cell_type": "code",
      "metadata": {
        "colab": {
          "base_uri": "https://localhost:8080/"
        },
        "id": "kNj51KKoxjKV",
        "outputId": "d1cad9bf-3886-4304-f28f-1c774b544545"
      },
      "source": [
        "print(yesterday)\n",
        "print(today)\n",
        "print(tomorrow)"
      ],
      "execution_count": 41,
      "outputs": [
        {
          "output_type": "stream",
          "text": [
            "2021-08-23\n",
            "2021-08-24\n",
            "2021-08-25\n"
          ],
          "name": "stdout"
        }
      ]
    },
    {
      "cell_type": "markdown",
      "metadata": {
        "id": "awsYqtsQ6wTX"
      },
      "source": [
        "#### 34. How to get all the dates corresponding to the month of July 2016? (★★☆) \n",
        "(**hint**: np.arange(dtype=datetime64\\['D'\\]))"
      ]
    },
    {
      "cell_type": "code",
      "metadata": {
        "id": "s2L2Fne26wTX",
        "colab": {
          "base_uri": "https://localhost:8080/"
        },
        "outputId": "bd72d097-6e22-49e2-b454-244361fb29ea"
      },
      "source": [
        "Z = np.arange('2016-07', '2016-08', dtype='datetime64[D]')\n",
        "print(Z)"
      ],
      "execution_count": 40,
      "outputs": [
        {
          "output_type": "stream",
          "text": [
            "['2016-07-01' '2016-07-02' '2016-07-03' '2016-07-04' '2016-07-05'\n",
            " '2016-07-06' '2016-07-07' '2016-07-08' '2016-07-09' '2016-07-10'\n",
            " '2016-07-11' '2016-07-12' '2016-07-13' '2016-07-14' '2016-07-15'\n",
            " '2016-07-16' '2016-07-17' '2016-07-18' '2016-07-19' '2016-07-20'\n",
            " '2016-07-21' '2016-07-22' '2016-07-23' '2016-07-24' '2016-07-25'\n",
            " '2016-07-26' '2016-07-27' '2016-07-28' '2016-07-29' '2016-07-30'\n",
            " '2016-07-31']\n"
          ],
          "name": "stdout"
        }
      ]
    },
    {
      "cell_type": "markdown",
      "metadata": {
        "id": "yNnjjiAg6wTY"
      },
      "source": [
        "#### 35. How to compute ((A+B)\\*(-A/2)) in place (without copy)? (★★☆) \n",
        "(**hint**: np.add(out=), np.negative(out=), np.multiply(out=), np.divide(out=))"
      ]
    },
    {
      "cell_type": "code",
      "metadata": {
        "id": "y3MNtBAg6wTY",
        "colab": {
          "base_uri": "https://localhost:8080/"
        },
        "outputId": "a5f161d8-7e1e-4c01-9489-d7ba076bbdb3"
      },
      "source": [
        "A = np.ones(3)*1\n",
        "B = np.ones(3)*2\n",
        "C = np.ones(3)*3\n",
        "np.add(A,B,out=B)\n",
        "np.divide(A,2,out=A)\n",
        "np.negative(A,out=A)\n",
        "np.multiply(A,B,out=A)"
      ],
      "execution_count": 42,
      "outputs": [
        {
          "output_type": "execute_result",
          "data": {
            "text/plain": [
              "array([-1.5, -1.5, -1.5])"
            ]
          },
          "metadata": {},
          "execution_count": 42
        }
      ]
    },
    {
      "cell_type": "markdown",
      "metadata": {
        "id": "YMcd3Ciy6wTY"
      },
      "source": [
        "#### 36. Extract the integer part of a random array using 5 different methods (★★☆) \n",
        "(**hint**: %, np.floor, np.ceil, astype, np.trunc)"
      ]
    },
    {
      "cell_type": "code",
      "metadata": {
        "id": "tUHZMxKn6wTZ",
        "colab": {
          "base_uri": "https://localhost:8080/"
        },
        "outputId": "7807b602-000c-4348-d180-0a949933d9f4"
      },
      "source": [
        "Z = np.random.uniform(0,10,10)\n",
        "\n",
        "print (Z - Z%1)\n",
        "print (np.floor(Z))\n",
        "print (np.ceil(Z)-1)\n",
        "print (Z.astype(int))\n",
        "print (np.trunc(Z))"
      ],
      "execution_count": 43,
      "outputs": [
        {
          "output_type": "stream",
          "text": [
            "[7. 3. 7. 1. 8. 9. 9. 6. 1. 7.]\n",
            "[7. 3. 7. 1. 8. 9. 9. 6. 1. 7.]\n",
            "[7. 3. 7. 1. 8. 9. 9. 6. 1. 7.]\n",
            "[7 3 7 1 8 9 9 6 1 7]\n",
            "[7. 3. 7. 1. 8. 9. 9. 6. 1. 7.]\n"
          ],
          "name": "stdout"
        }
      ]
    },
    {
      "cell_type": "markdown",
      "metadata": {
        "id": "FSx4Q2Vm6wTZ"
      },
      "source": [
        "#### 37. Create a 5x5 matrix with row values ranging from 0 to 4 (★★☆) \n",
        "(**hint**: np.arange)"
      ]
    },
    {
      "cell_type": "code",
      "metadata": {
        "id": "2kRvnIZX6wTZ",
        "colab": {
          "base_uri": "https://localhost:8080/"
        },
        "outputId": "cf287db5-ade1-49bd-ef07-9ef922c2e892"
      },
      "source": [
        "Z = np.zeros((5,5))\n",
        "Z += np.arange(5)\n",
        "print(Z)"
      ],
      "execution_count": 44,
      "outputs": [
        {
          "output_type": "stream",
          "text": [
            "[[0. 1. 2. 3. 4.]\n",
            " [0. 1. 2. 3. 4.]\n",
            " [0. 1. 2. 3. 4.]\n",
            " [0. 1. 2. 3. 4.]\n",
            " [0. 1. 2. 3. 4.]]\n"
          ],
          "name": "stdout"
        }
      ]
    },
    {
      "cell_type": "markdown",
      "metadata": {
        "id": "Y6DFpjKo6wTa"
      },
      "source": [
        "#### 38. Consider a generator function that generates 10 integers and use it to build an array (★☆☆) \n",
        "(**hint**: np.fromiter)"
      ]
    },
    {
      "cell_type": "code",
      "metadata": {
        "id": "X4KenKVr6wTa",
        "colab": {
          "base_uri": "https://localhost:8080/"
        },
        "outputId": "78978409-85d8-4490-b8cd-aa8103472b80"
      },
      "source": [
        "def generate():\n",
        "    for x in range(10):\n",
        "        yield x\n",
        "Z = np.fromiter(generate(),dtype=float,count=-1)\n",
        "print(Z)"
      ],
      "execution_count": 45,
      "outputs": [
        {
          "output_type": "stream",
          "text": [
            "[0. 1. 2. 3. 4. 5. 6. 7. 8. 9.]\n"
          ],
          "name": "stdout"
        }
      ]
    },
    {
      "cell_type": "markdown",
      "metadata": {
        "id": "l9DGgOhn6wTa"
      },
      "source": [
        "#### 39. Create a vector of size 10 with values ranging from 0 to 1, both excluded (★★☆) \n",
        "(**hint**: np.linspace)"
      ]
    },
    {
      "cell_type": "code",
      "metadata": {
        "id": "B8PzsQFN6wTa",
        "colab": {
          "base_uri": "https://localhost:8080/"
        },
        "outputId": "a626f78d-d4c8-45d3-c5fd-760aa8e7f5e7"
      },
      "source": [
        "Z = np.linspace(0,1,11,endpoint=False)[1:]\n",
        "print(Z)"
      ],
      "execution_count": 46,
      "outputs": [
        {
          "output_type": "stream",
          "text": [
            "[0.09090909 0.18181818 0.27272727 0.36363636 0.45454545 0.54545455\n",
            " 0.63636364 0.72727273 0.81818182 0.90909091]\n"
          ],
          "name": "stdout"
        }
      ]
    },
    {
      "cell_type": "markdown",
      "metadata": {
        "id": "flVXRFyB6wTb"
      },
      "source": [
        "#### 40. Create a random vector of size 10 and sort it (★★☆) \n",
        "(**hint**: sort)"
      ]
    },
    {
      "cell_type": "code",
      "metadata": {
        "id": "Wkk0axzA6wTc",
        "colab": {
          "base_uri": "https://localhost:8080/"
        },
        "outputId": "305281ec-c391-450e-c29e-71222d3c26b1"
      },
      "source": [
        "Z = np.random.random(10)\n",
        "Z.sort()\n",
        "print(Z)"
      ],
      "execution_count": 47,
      "outputs": [
        {
          "output_type": "stream",
          "text": [
            "[0.04848751 0.06400215 0.3197227  0.32160602 0.50849919 0.72038877\n",
            " 0.77946404 0.82487861 0.93215825 0.9740766 ]\n"
          ],
          "name": "stdout"
        }
      ]
    },
    {
      "cell_type": "markdown",
      "metadata": {
        "id": "xdF2yi9g6wTc"
      },
      "source": [
        "#### 41. How to sum a small array faster than np.sum? (★★☆) \n",
        "(**hint**: np.add.reduce)"
      ]
    },
    {
      "cell_type": "code",
      "metadata": {
        "id": "YEbSaHBj6wTc",
        "colab": {
          "base_uri": "https://localhost:8080/"
        },
        "outputId": "176d8c55-d773-4d30-b807-4db363ff0431"
      },
      "source": [
        "Z = np.arange(10)\n",
        "np.add.reduce(Z)"
      ],
      "execution_count": 48,
      "outputs": [
        {
          "output_type": "execute_result",
          "data": {
            "text/plain": [
              "45"
            ]
          },
          "metadata": {},
          "execution_count": 48
        }
      ]
    },
    {
      "cell_type": "markdown",
      "metadata": {
        "id": "A9YbMoWW6wTc"
      },
      "source": [
        "#### 42. Consider two random array A and B, check if they are equal (★★☆) \n",
        "(**hint**: np.allclose, np.array\\_equal)"
      ]
    },
    {
      "cell_type": "code",
      "metadata": {
        "id": "XKByyLwf6wTd",
        "colab": {
          "base_uri": "https://localhost:8080/"
        },
        "outputId": "8ead6d42-b986-4a02-e034-f29c4b07edcb"
      },
      "source": [
        "A = np.random.randint(0,2,5)\n",
        "B = np.random.randint(0,2,5)\n",
        "\n",
        "# Assuming identical shape of the arrays and a tolerance for the comparison of values\n",
        "equal = np.allclose(A,B)\n",
        "print(equal)\n",
        "\n",
        "# Checking both the shape and the element values, no tolerance (values have to be exactly equal)\n",
        "equal = np.array_equal(A,B)\n",
        "print(equal)"
      ],
      "execution_count": 49,
      "outputs": [
        {
          "output_type": "stream",
          "text": [
            "False\n",
            "False\n"
          ],
          "name": "stdout"
        }
      ]
    },
    {
      "cell_type": "markdown",
      "metadata": {
        "id": "TLbJGTjK6wTd"
      },
      "source": [
        "#### 43. Make an array immutable (read-only) (★★☆) \n",
        "(**hint**: flags.writeable)"
      ]
    },
    {
      "cell_type": "code",
      "metadata": {
        "id": "HinLUKWC6wTd",
        "colab": {
          "base_uri": "https://localhost:8080/",
          "height": 197
        },
        "outputId": "a5ff7105-b7a0-4cab-f008-43b3586540e5"
      },
      "source": [
        "Z = np.zeros(10)\n",
        "Z.flags.writeable = False\n",
        "Z[0] = 1"
      ],
      "execution_count": 50,
      "outputs": [
        {
          "output_type": "error",
          "ename": "ValueError",
          "evalue": "ignored",
          "traceback": [
            "\u001b[0;31m---------------------------------------------------------------------------\u001b[0m",
            "\u001b[0;31mValueError\u001b[0m                                Traceback (most recent call last)",
            "\u001b[0;32m<ipython-input-50-dcc5e7f145b5>\u001b[0m in \u001b[0;36m<module>\u001b[0;34m()\u001b[0m\n\u001b[1;32m      1\u001b[0m \u001b[0mZ\u001b[0m \u001b[0;34m=\u001b[0m \u001b[0mnp\u001b[0m\u001b[0;34m.\u001b[0m\u001b[0mzeros\u001b[0m\u001b[0;34m(\u001b[0m\u001b[0;36m10\u001b[0m\u001b[0;34m)\u001b[0m\u001b[0;34m\u001b[0m\u001b[0;34m\u001b[0m\u001b[0m\n\u001b[1;32m      2\u001b[0m \u001b[0mZ\u001b[0m\u001b[0;34m.\u001b[0m\u001b[0mflags\u001b[0m\u001b[0;34m.\u001b[0m\u001b[0mwriteable\u001b[0m \u001b[0;34m=\u001b[0m \u001b[0;32mFalse\u001b[0m\u001b[0;34m\u001b[0m\u001b[0;34m\u001b[0m\u001b[0m\n\u001b[0;32m----> 3\u001b[0;31m \u001b[0mZ\u001b[0m\u001b[0;34m[\u001b[0m\u001b[0;36m0\u001b[0m\u001b[0;34m]\u001b[0m \u001b[0;34m=\u001b[0m \u001b[0;36m1\u001b[0m\u001b[0;34m\u001b[0m\u001b[0;34m\u001b[0m\u001b[0m\n\u001b[0m",
            "\u001b[0;31mValueError\u001b[0m: assignment destination is read-only"
          ]
        }
      ]
    },
    {
      "cell_type": "markdown",
      "metadata": {
        "id": "zSfMMStz6wTe"
      },
      "source": [
        "#### 44. Consider a random 10x2 matrix representing cartesian coordinates, convert them to polar coordinates (★★☆) \n",
        "(**hint**: np.sqrt, np.arctan2)"
      ]
    },
    {
      "cell_type": "code",
      "metadata": {
        "id": "LLEK-Y556wTe",
        "colab": {
          "base_uri": "https://localhost:8080/"
        },
        "outputId": "f0b1469c-86de-49a4-f23e-1f3e604f275d"
      },
      "source": [
        "Z = np.random.random((10,2))\n",
        "X,Y = Z[:,0], Z[:,1]\n",
        "R = np.sqrt(X**2+Y**2)\n",
        "T = np.arctan2(Y,X)\n",
        "print(R)\n",
        "print(T)"
      ],
      "execution_count": 51,
      "outputs": [
        {
          "output_type": "stream",
          "text": [
            "[1.01007249 0.63486891 0.97204982 0.87610715 0.304513   0.7363133\n",
            " 0.54768992 1.02013324 1.1841983  0.44093948]\n",
            "[0.38711951 0.29007517 0.81514885 0.14056884 1.3835738  0.2591155\n",
            " 1.49958287 1.08836858 0.56894449 0.31168305]\n"
          ],
          "name": "stdout"
        }
      ]
    },
    {
      "cell_type": "markdown",
      "metadata": {
        "id": "QU-ELUZU6wTe"
      },
      "source": [
        "#### 45. Create random vector of size 10 and replace the maximum value by 0 (★★☆) \n",
        "(**hint**: argmax)"
      ]
    },
    {
      "cell_type": "code",
      "metadata": {
        "id": "weC0HJYD6wTe",
        "colab": {
          "base_uri": "https://localhost:8080/"
        },
        "outputId": "63d3e4b1-41e8-4731-f0bc-341acfa39275"
      },
      "source": [
        "Z = np.random.random(10)\n",
        "Z[Z.argmax()] = 0\n",
        "print(Z)"
      ],
      "execution_count": 52,
      "outputs": [
        {
          "output_type": "stream",
          "text": [
            "[0.92833749 0.         0.11476754 0.78436401 0.58155019 0.29498926\n",
            " 0.53054395 0.26306872 0.47764654 0.14602264]\n"
          ],
          "name": "stdout"
        }
      ]
    },
    {
      "cell_type": "markdown",
      "metadata": {
        "id": "BomLl-QS6wTf"
      },
      "source": [
        "#### 46. Create a structured array with `x` and `y` coordinates covering the \\[0,1\\]x\\[0,1\\] area (★★☆) \n",
        "(**hint**: np.meshgrid)"
      ]
    },
    {
      "cell_type": "code",
      "metadata": {
        "id": "efLSazN96wTf",
        "colab": {
          "base_uri": "https://localhost:8080/"
        },
        "outputId": "1b1fa5e2-f345-4d59-e9ac-abc15c5d2b1d"
      },
      "source": [
        "Z = np.zeros((5,5), [('x',float),('y',float)])\n",
        "Z['x'], Z['y'] = np.meshgrid(np.linspace(0,1,5),\n",
        "                             np.linspace(0,1,5))\n",
        "print(Z)"
      ],
      "execution_count": 53,
      "outputs": [
        {
          "output_type": "stream",
          "text": [
            "[[(0.  , 0.  ) (0.25, 0.  ) (0.5 , 0.  ) (0.75, 0.  ) (1.  , 0.  )]\n",
            " [(0.  , 0.25) (0.25, 0.25) (0.5 , 0.25) (0.75, 0.25) (1.  , 0.25)]\n",
            " [(0.  , 0.5 ) (0.25, 0.5 ) (0.5 , 0.5 ) (0.75, 0.5 ) (1.  , 0.5 )]\n",
            " [(0.  , 0.75) (0.25, 0.75) (0.5 , 0.75) (0.75, 0.75) (1.  , 0.75)]\n",
            " [(0.  , 1.  ) (0.25, 1.  ) (0.5 , 1.  ) (0.75, 1.  ) (1.  , 1.  )]]\n"
          ],
          "name": "stdout"
        }
      ]
    },
    {
      "cell_type": "markdown",
      "metadata": {
        "id": "y8aUKtn66wTf"
      },
      "source": [
        "####  47. Given two arrays, X and Y, construct the Cauchy matrix C (Cij =1/(xi - yj)) \n",
        "(**hint**: np.subtract.outer)"
      ]
    },
    {
      "cell_type": "code",
      "metadata": {
        "id": "ZUamK3x76wTf",
        "colab": {
          "base_uri": "https://localhost:8080/"
        },
        "outputId": "905b88a9-cc2e-485e-aaa2-cf804ce857ee"
      },
      "source": [
        "X = np.arange(8)\n",
        "Y = X + 0.5\n",
        "C = 1.0 / np.subtract.outer(X, Y)\n",
        "print(np.linalg.det(C))"
      ],
      "execution_count": 54,
      "outputs": [
        {
          "output_type": "stream",
          "text": [
            "3638.1636371179666\n"
          ],
          "name": "stdout"
        }
      ]
    },
    {
      "cell_type": "markdown",
      "metadata": {
        "id": "ietZvs9a6wTg"
      },
      "source": [
        "#### 48. Print the minimum and maximum representable value for each numpy scalar type (★★☆) \n",
        "(**hint**: np.iinfo, np.finfo, eps)"
      ]
    },
    {
      "cell_type": "code",
      "metadata": {
        "id": "VjqOwnXp6wTg",
        "colab": {
          "base_uri": "https://localhost:8080/"
        },
        "outputId": "8d52d8e6-257b-464d-f7ef-bffd1ec288f2"
      },
      "source": [
        "for dtype in [np.int8, np.int32, np.int64]:\n",
        "   print(np.iinfo(dtype).min)\n",
        "   print(np.iinfo(dtype).max)\n",
        "for dtype in [np.float32, np.float64]:\n",
        "   print(np.finfo(dtype).min)\n",
        "   print(np.finfo(dtype).max)\n",
        "   print(np.finfo(dtype).eps)"
      ],
      "execution_count": 55,
      "outputs": [
        {
          "output_type": "stream",
          "text": [
            "-128\n",
            "127\n",
            "-2147483648\n",
            "2147483647\n",
            "-9223372036854775808\n",
            "9223372036854775807\n",
            "-3.4028235e+38\n",
            "3.4028235e+38\n",
            "1.1920929e-07\n",
            "-1.7976931348623157e+308\n",
            "1.7976931348623157e+308\n",
            "2.220446049250313e-16\n"
          ],
          "name": "stdout"
        }
      ]
    },
    {
      "cell_type": "markdown",
      "metadata": {
        "id": "g6V8Qxku6wTg"
      },
      "source": [
        "#### 49. How to print all the values of an array? (★★☆) \n",
        "(**hint**: np.set\\_printoptions)"
      ]
    },
    {
      "cell_type": "code",
      "metadata": {
        "id": "1Dx7C6Hn6wTg",
        "colab": {
          "base_uri": "https://localhost:8080/",
          "height": 357
        },
        "outputId": "6368b501-cf1e-42a8-d8d6-fa06f07b45e8"
      },
      "source": [
        "np.set_printoptions(threshold=np.nan)\n",
        "Z = np.zeros((16,16))\n",
        "print(Z)"
      ],
      "execution_count": 57,
      "outputs": [
        {
          "output_type": "error",
          "ename": "ValueError",
          "evalue": "ignored",
          "traceback": [
            "\u001b[0;31m---------------------------------------------------------------------------\u001b[0m",
            "\u001b[0;31mValueError\u001b[0m                                Traceback (most recent call last)",
            "\u001b[0;32m<ipython-input-57-8e6bd600a6bc>\u001b[0m in \u001b[0;36m<module>\u001b[0;34m()\u001b[0m\n\u001b[0;32m----> 1\u001b[0;31m \u001b[0mnp\u001b[0m\u001b[0;34m.\u001b[0m\u001b[0mset_printoptions\u001b[0m\u001b[0;34m(\u001b[0m\u001b[0mthreshold\u001b[0m\u001b[0;34m=\u001b[0m\u001b[0mnp\u001b[0m\u001b[0;34m.\u001b[0m\u001b[0mnan\u001b[0m\u001b[0;34m)\u001b[0m\u001b[0;34m\u001b[0m\u001b[0;34m\u001b[0m\u001b[0m\n\u001b[0m\u001b[1;32m      2\u001b[0m \u001b[0mZ\u001b[0m \u001b[0;34m=\u001b[0m \u001b[0mnp\u001b[0m\u001b[0;34m.\u001b[0m\u001b[0mzeros\u001b[0m\u001b[0;34m(\u001b[0m\u001b[0;34m(\u001b[0m\u001b[0;36m16\u001b[0m\u001b[0;34m,\u001b[0m\u001b[0;36m16\u001b[0m\u001b[0;34m)\u001b[0m\u001b[0;34m)\u001b[0m\u001b[0;34m\u001b[0m\u001b[0;34m\u001b[0m\u001b[0m\n\u001b[1;32m      3\u001b[0m \u001b[0mprint\u001b[0m\u001b[0;34m(\u001b[0m\u001b[0mZ\u001b[0m\u001b[0;34m)\u001b[0m\u001b[0;34m\u001b[0m\u001b[0;34m\u001b[0m\u001b[0m\n",
            "\u001b[0;32m/usr/local/lib/python3.7/dist-packages/numpy/core/arrayprint.py\u001b[0m in \u001b[0;36mset_printoptions\u001b[0;34m(precision, threshold, edgeitems, linewidth, suppress, nanstr, infstr, formatter, sign, floatmode, legacy)\u001b[0m\n\u001b[1;32m    243\u001b[0m     opt = _make_options_dict(precision, threshold, edgeitems, linewidth,\n\u001b[1;32m    244\u001b[0m                              \u001b[0msuppress\u001b[0m\u001b[0;34m,\u001b[0m \u001b[0mnanstr\u001b[0m\u001b[0;34m,\u001b[0m \u001b[0minfstr\u001b[0m\u001b[0;34m,\u001b[0m \u001b[0msign\u001b[0m\u001b[0;34m,\u001b[0m \u001b[0mformatter\u001b[0m\u001b[0;34m,\u001b[0m\u001b[0;34m\u001b[0m\u001b[0;34m\u001b[0m\u001b[0m\n\u001b[0;32m--> 245\u001b[0;31m                              floatmode, legacy)\n\u001b[0m\u001b[1;32m    246\u001b[0m     \u001b[0;31m# formatter is always reset\u001b[0m\u001b[0;34m\u001b[0m\u001b[0;34m\u001b[0m\u001b[0;34m\u001b[0m\u001b[0m\n\u001b[1;32m    247\u001b[0m     \u001b[0mopt\u001b[0m\u001b[0;34m[\u001b[0m\u001b[0;34m'formatter'\u001b[0m\u001b[0;34m]\u001b[0m \u001b[0;34m=\u001b[0m \u001b[0mformatter\u001b[0m\u001b[0;34m\u001b[0m\u001b[0;34m\u001b[0m\u001b[0m\n",
            "\u001b[0;32m/usr/local/lib/python3.7/dist-packages/numpy/core/arrayprint.py\u001b[0m in \u001b[0;36m_make_options_dict\u001b[0;34m(precision, threshold, edgeitems, linewidth, suppress, nanstr, infstr, sign, formatter, floatmode, legacy)\u001b[0m\n\u001b[1;32m     84\u001b[0m             \u001b[0;32mraise\u001b[0m \u001b[0mTypeError\u001b[0m\u001b[0;34m(\u001b[0m\u001b[0;34m\"threshold must be numeric\"\u001b[0m\u001b[0;34m)\u001b[0m\u001b[0;34m\u001b[0m\u001b[0;34m\u001b[0m\u001b[0m\n\u001b[1;32m     85\u001b[0m         \u001b[0;32mif\u001b[0m \u001b[0mnp\u001b[0m\u001b[0;34m.\u001b[0m\u001b[0misnan\u001b[0m\u001b[0;34m(\u001b[0m\u001b[0mthreshold\u001b[0m\u001b[0;34m)\u001b[0m\u001b[0;34m:\u001b[0m\u001b[0;34m\u001b[0m\u001b[0;34m\u001b[0m\u001b[0m\n\u001b[0;32m---> 86\u001b[0;31m             raise ValueError(\"threshold must be non-NAN, try \"\n\u001b[0m\u001b[1;32m     87\u001b[0m                              \"sys.maxsize for untruncated representation\")\n\u001b[1;32m     88\u001b[0m     \u001b[0;32mreturn\u001b[0m \u001b[0moptions\u001b[0m\u001b[0;34m\u001b[0m\u001b[0;34m\u001b[0m\u001b[0m\n",
            "\u001b[0;31mValueError\u001b[0m: threshold must be non-NAN, try sys.maxsize for untruncated representation"
          ]
        }
      ]
    },
    {
      "cell_type": "markdown",
      "metadata": {
        "id": "deeT8T_16wTh"
      },
      "source": [
        "#### 50. How to find the closest value (to a given scalar) in a vector? (★★☆) \n",
        "(**hint**: argmin)"
      ]
    },
    {
      "cell_type": "code",
      "metadata": {
        "id": "ecdsgrN76wTh",
        "colab": {
          "base_uri": "https://localhost:8080/"
        },
        "outputId": "e19179e9-b5d8-4f23-8ccb-8dc077ef6b19"
      },
      "source": [
        "Z = np.arange(100)\n",
        "v = np.random.uniform(0,100)\n",
        "index = (np.abs(Z-v)).argmin()\n",
        "print(Z[index])"
      ],
      "execution_count": 58,
      "outputs": [
        {
          "output_type": "stream",
          "text": [
            "70\n"
          ],
          "name": "stdout"
        }
      ]
    },
    {
      "cell_type": "markdown",
      "metadata": {
        "id": "HxsiKrI26wTh"
      },
      "source": [
        "#### 51. Create a structured array representing a position (x,y) and a color (r,g,b) (★★☆) \n",
        "(**hint**: dtype)"
      ]
    },
    {
      "cell_type": "code",
      "metadata": {
        "id": "TQctjSfi6wTh",
        "colab": {
          "base_uri": "https://localhost:8080/"
        },
        "outputId": "87342de0-1f7b-475e-eb39-40310ea4af1c"
      },
      "source": [
        "Z = np.zeros(10, [ ('position', [ ('x', float, 1),\n",
        "                                  ('y', float, 1)]),\n",
        "                   ('color',    [ ('r', float, 1),\n",
        "                                  ('g', float, 1),\n",
        "                                  ('b', float, 1)])])\n",
        "print(Z)"
      ],
      "execution_count": 59,
      "outputs": [
        {
          "output_type": "stream",
          "text": [
            "[((0., 0.), (0., 0., 0.)) ((0., 0.), (0., 0., 0.))\n",
            " ((0., 0.), (0., 0., 0.)) ((0., 0.), (0., 0., 0.))\n",
            " ((0., 0.), (0., 0., 0.)) ((0., 0.), (0., 0., 0.))\n",
            " ((0., 0.), (0., 0., 0.)) ((0., 0.), (0., 0., 0.))\n",
            " ((0., 0.), (0., 0., 0.)) ((0., 0.), (0., 0., 0.))]\n"
          ],
          "name": "stdout"
        },
        {
          "output_type": "stream",
          "text": [
            "/usr/local/lib/python3.7/dist-packages/ipykernel_launcher.py:5: FutureWarning: Passing (type, 1) or '1type' as a synonym of type is deprecated; in a future version of numpy, it will be understood as (type, (1,)) / '(1,)type'.\n",
            "  \"\"\"\n"
          ],
          "name": "stderr"
        }
      ]
    },
    {
      "cell_type": "markdown",
      "metadata": {
        "id": "p5VIEfoR6wTi"
      },
      "source": [
        "#### 52. Consider a random vector with shape (100,2) representing coordinates, find point by point distances (★★☆) \n",
        "(**hint**: np.atleast\\_2d, T, np.sqrt)"
      ]
    },
    {
      "cell_type": "code",
      "metadata": {
        "id": "UMYwlHwe6wTi",
        "colab": {
          "base_uri": "https://localhost:8080/"
        },
        "outputId": "b09edb65-391f-4bb8-f786-d6574d171c0f"
      },
      "source": [
        "Z = np.random.random((10,2))\n",
        "X,Y = np.atleast_2d(Z[:,0], Z[:,1])\n",
        "D = np.sqrt( (X-X.T)**2 + (Y-Y.T)**2)\n",
        "print(D)\n",
        "\n",
        "# Much faster with scipy\n",
        "import scipy\n",
        "# Thanks Gavin Heverly-Coulson (#issue 1)\n",
        "import scipy.spatial\n",
        "\n",
        "Z = np.random.random((10,2))\n",
        "D = scipy.spatial.distance.cdist(Z,Z)\n",
        "print(D)"
      ],
      "execution_count": 60,
      "outputs": [
        {
          "output_type": "stream",
          "text": [
            "[[0.         0.4431937  0.60711076 0.63755883 0.77514954 0.4236879\n",
            "  0.81305024 0.68526577 0.70097708 0.79296253]\n",
            " [0.4431937  0.         0.6791469  0.89351078 1.02013692 0.72531274\n",
            "  0.8012309  0.97878881 0.63627607 0.68754947]\n",
            " [0.60711076 0.6791469  0.         0.33758531 0.41241147 0.35363346\n",
            "  0.21985952 0.44654035 0.20412478 0.29478101]\n",
            " [0.63755883 0.89351078 0.33758531 0.         0.1377345  0.21599413\n",
            "  0.49650062 0.10896708 0.54034059 0.62438666]\n",
            " [0.77514954 1.02013692 0.41241147 0.1377345  0.         0.35258989\n",
            "  0.52022487 0.13559107 0.6023032  0.67338674]\n",
            " [0.4236879  0.72531274 0.35363346 0.21599413 0.35258989 0.\n",
            "  0.56596911 0.26605359 0.54249122 0.64044659]\n",
            " [0.81305024 0.8012309  0.21985952 0.49650062 0.52022487 0.56596911\n",
            "  0.         0.59870745 0.16977429 0.17874395]\n",
            " [0.68526577 0.97878881 0.44654035 0.10896708 0.13559107 0.26605359\n",
            "  0.59870745 0.         0.64907023 0.73208319]\n",
            " [0.70097708 0.63627607 0.20412478 0.54034059 0.6023032  0.54249122\n",
            "  0.16977429 0.64907023 0.         0.09997379]\n",
            " [0.79296253 0.68754947 0.29478101 0.62438666 0.67338674 0.64044659\n",
            "  0.17874395 0.73208319 0.09997379 0.        ]]\n",
            "[[0.         0.22886495 1.16574238 0.32528132 0.64489737 0.5742701\n",
            "  0.71236648 0.63253118 0.44963004 0.83980047]\n",
            " [0.22886495 0.         1.00953746 0.12077848 0.61713363 0.50255674\n",
            "  0.52635837 0.4036719  0.22076895 0.72705412]\n",
            " [1.16574238 1.00953746 0.         1.03105433 0.68828496 0.64316883\n",
            "  0.49706897 0.8182786  0.88756852 0.37481325]\n",
            " [0.32528132 0.12077848 1.03105433 0.         0.71256702 0.58636188\n",
            "  0.53534253 0.33112549 0.16178655 0.78297566]\n",
            " [0.64489737 0.61713363 0.68828496 0.71256702 0.         0.14842938\n",
            "  0.50047776 0.75498849 0.66638193 0.31487241]\n",
            " [0.5742701  0.50255674 0.64316883 0.58636188 0.14842938 0.\n",
            "  0.36472427 0.60674792 0.52489006 0.27885271]\n",
            " [0.71236648 0.52635837 0.49706897 0.53534253 0.50047776 0.36472427\n",
            "  0.         0.3513945  0.39085054 0.34069375]\n",
            " [0.63253118 0.4036719  0.8182786  0.33112549 0.75498849 0.60674792\n",
            "  0.3513945  0.         0.18290301 0.68378985]\n",
            " [0.44963004 0.22076895 0.88756852 0.16178655 0.66638193 0.52489006\n",
            "  0.39085054 0.18290301 0.         0.67453729]\n",
            " [0.83980047 0.72705412 0.37481325 0.78297566 0.31487241 0.27885271\n",
            "  0.34069375 0.68378985 0.67453729 0.        ]]\n"
          ],
          "name": "stdout"
        }
      ]
    },
    {
      "cell_type": "markdown",
      "metadata": {
        "id": "R3-C-HcY6wTi"
      },
      "source": [
        "#### 53. How to convert a float (32 bits) array into an integer (32 bits) in place? \n",
        "(**hint**: astype(copy=False))"
      ]
    },
    {
      "cell_type": "code",
      "metadata": {
        "id": "5_uwBv966wTj",
        "colab": {
          "base_uri": "https://localhost:8080/"
        },
        "outputId": "55eb05e9-b08f-4384-a664-fa59e6041726"
      },
      "source": [
        "Z = np.arange(10, dtype=np.float32)\n",
        "Z = Z.astype(np.int32, copy=False)\n",
        "print(Z)"
      ],
      "execution_count": 61,
      "outputs": [
        {
          "output_type": "stream",
          "text": [
            "[0 1 2 3 4 5 6 7 8 9]\n"
          ],
          "name": "stdout"
        }
      ]
    },
    {
      "cell_type": "markdown",
      "metadata": {
        "id": "vGO8-Wgd6wTj"
      },
      "source": [
        "#### 54. How to read the following file? (★★☆) \n",
        "(**hint**: np.genfromtxt)"
      ]
    },
    {
      "cell_type": "markdown",
      "metadata": {
        "id": "bKpCR5kE6wTj"
      },
      "source": [
        "```\n",
        "1, 2, 3, 4, 5\n",
        "6,  ,  , 7, 8\n",
        " ,  , 9,10,11\n",
        "```"
      ]
    },
    {
      "cell_type": "code",
      "metadata": {
        "id": "1UY6KNUe6wTk",
        "colab": {
          "base_uri": "https://localhost:8080/"
        },
        "outputId": "e564dacc-d77e-4d46-ac7e-26d095b275cf"
      },
      "source": [
        "from io import StringIO\n",
        "\n",
        "# Fake file \n",
        "s = StringIO(\"\"\"1, 2, 3, 4, 5\\n\n",
        "                6,  ,  , 7, 8\\n\n",
        "                 ,  , 9,10,11\\n\"\"\")\n",
        "Z = np.genfromtxt(s, delimiter=\",\", dtype=np.int)\n",
        "print(Z)"
      ],
      "execution_count": 62,
      "outputs": [
        {
          "output_type": "stream",
          "text": [
            "[[ 1  2  3  4  5]\n",
            " [ 6 -1 -1  7  8]\n",
            " [-1 -1  9 10 11]]\n"
          ],
          "name": "stdout"
        }
      ]
    },
    {
      "cell_type": "markdown",
      "metadata": {
        "id": "DLj3QETV6wTk"
      },
      "source": [
        "#### 55. What is the equivalent of enumerate for numpy arrays? (★★☆) \n",
        "(**hint**: np.ndenumerate, np.ndindex)"
      ]
    },
    {
      "cell_type": "code",
      "metadata": {
        "id": "1T21HRUh6wTk",
        "colab": {
          "base_uri": "https://localhost:8080/"
        },
        "outputId": "214e1a77-bc73-42e5-a6d4-323d51ee8057"
      },
      "source": [
        "Z = np.arange(9).reshape(3,3)\n",
        "for index, value in np.ndenumerate(Z):\n",
        "    print(index, value)\n",
        "for index in np.ndindex(Z.shape):\n",
        "    print(index, Z[index])"
      ],
      "execution_count": 63,
      "outputs": [
        {
          "output_type": "stream",
          "text": [
            "(0, 0) 0\n",
            "(0, 1) 1\n",
            "(0, 2) 2\n",
            "(1, 0) 3\n",
            "(1, 1) 4\n",
            "(1, 2) 5\n",
            "(2, 0) 6\n",
            "(2, 1) 7\n",
            "(2, 2) 8\n",
            "(0, 0) 0\n",
            "(0, 1) 1\n",
            "(0, 2) 2\n",
            "(1, 0) 3\n",
            "(1, 1) 4\n",
            "(1, 2) 5\n",
            "(2, 0) 6\n",
            "(2, 1) 7\n",
            "(2, 2) 8\n"
          ],
          "name": "stdout"
        }
      ]
    },
    {
      "cell_type": "markdown",
      "metadata": {
        "id": "PIZumgBR6wTk"
      },
      "source": [
        "#### 56. Generate a generic 2D Gaussian-like array (★★☆) \n",
        "(**hint**: np.meshgrid, np.exp)"
      ]
    },
    {
      "cell_type": "code",
      "metadata": {
        "id": "TNWKk1pf6wTl",
        "colab": {
          "base_uri": "https://localhost:8080/"
        },
        "outputId": "b92cfec7-ffbc-4347-894c-1d88e8428564"
      },
      "source": [
        "X, Y = np.meshgrid(np.linspace(-1,1,10), np.linspace(-1,1,10))\n",
        "D = np.sqrt(X*X+Y*Y)\n",
        "sigma, mu = 1.0, 0.0\n",
        "G = np.exp(-( (D-mu)**2 / ( 2.0 * sigma**2 ) ) )\n",
        "print(G)"
      ],
      "execution_count": 64,
      "outputs": [
        {
          "output_type": "stream",
          "text": [
            "[[0.36787944 0.44822088 0.51979489 0.57375342 0.60279818 0.60279818\n",
            "  0.57375342 0.51979489 0.44822088 0.36787944]\n",
            " [0.44822088 0.54610814 0.63331324 0.69905581 0.73444367 0.73444367\n",
            "  0.69905581 0.63331324 0.54610814 0.44822088]\n",
            " [0.51979489 0.63331324 0.73444367 0.81068432 0.85172308 0.85172308\n",
            "  0.81068432 0.73444367 0.63331324 0.51979489]\n",
            " [0.57375342 0.69905581 0.81068432 0.89483932 0.9401382  0.9401382\n",
            "  0.89483932 0.81068432 0.69905581 0.57375342]\n",
            " [0.60279818 0.73444367 0.85172308 0.9401382  0.98773022 0.98773022\n",
            "  0.9401382  0.85172308 0.73444367 0.60279818]\n",
            " [0.60279818 0.73444367 0.85172308 0.9401382  0.98773022 0.98773022\n",
            "  0.9401382  0.85172308 0.73444367 0.60279818]\n",
            " [0.57375342 0.69905581 0.81068432 0.89483932 0.9401382  0.9401382\n",
            "  0.89483932 0.81068432 0.69905581 0.57375342]\n",
            " [0.51979489 0.63331324 0.73444367 0.81068432 0.85172308 0.85172308\n",
            "  0.81068432 0.73444367 0.63331324 0.51979489]\n",
            " [0.44822088 0.54610814 0.63331324 0.69905581 0.73444367 0.73444367\n",
            "  0.69905581 0.63331324 0.54610814 0.44822088]\n",
            " [0.36787944 0.44822088 0.51979489 0.57375342 0.60279818 0.60279818\n",
            "  0.57375342 0.51979489 0.44822088 0.36787944]]\n"
          ],
          "name": "stdout"
        }
      ]
    },
    {
      "cell_type": "markdown",
      "metadata": {
        "id": "YE4wxLTL6wTl"
      },
      "source": [
        "#### 57. How to randomly place p elements in a 2D array? (★★☆) \n",
        "(**hint**: np.put, np.random.choice)"
      ]
    },
    {
      "cell_type": "code",
      "metadata": {
        "id": "n8agv9PB6wTl",
        "colab": {
          "base_uri": "https://localhost:8080/"
        },
        "outputId": "165ac204-f0ea-49a6-94b7-44bd463cbe14"
      },
      "source": [
        "n = 10\n",
        "p = 3\n",
        "Z = np.zeros((n,n))\n",
        "np.put(Z, np.random.choice(range(n*n), p, replace=False),1)\n",
        "print(Z)"
      ],
      "execution_count": 65,
      "outputs": [
        {
          "output_type": "stream",
          "text": [
            "[[0. 0. 0. 0. 0. 0. 0. 0. 0. 0.]\n",
            " [0. 0. 0. 0. 0. 0. 0. 0. 0. 0.]\n",
            " [0. 0. 0. 0. 0. 0. 0. 0. 0. 0.]\n",
            " [0. 0. 0. 0. 0. 0. 0. 0. 0. 0.]\n",
            " [0. 0. 0. 0. 0. 0. 0. 0. 0. 0.]\n",
            " [0. 0. 0. 0. 0. 0. 0. 0. 0. 0.]\n",
            " [0. 0. 0. 0. 0. 0. 0. 0. 0. 1.]\n",
            " [1. 0. 0. 0. 0. 0. 0. 0. 0. 0.]\n",
            " [0. 0. 0. 0. 0. 0. 0. 0. 0. 0.]\n",
            " [0. 0. 1. 0. 0. 0. 0. 0. 0. 0.]]\n"
          ],
          "name": "stdout"
        }
      ]
    },
    {
      "cell_type": "markdown",
      "metadata": {
        "id": "LegTzksg6wTl"
      },
      "source": [
        "#### 58. Subtract the mean of each row of a matrix (★★☆) \n",
        "(**hint**: mean(axis=,keepdims=))"
      ]
    },
    {
      "cell_type": "code",
      "metadata": {
        "id": "CRhZOz0d6wTm",
        "colab": {
          "base_uri": "https://localhost:8080/"
        },
        "outputId": "e2c6d848-5702-473c-a9a9-1f5eae84665a"
      },
      "source": [
        "# Author: Warren Weckesser\n",
        "\n",
        "X = np.random.rand(5, 10)\n",
        "\n",
        "# Recent versions of numpy\n",
        "Y = X - X.mean(axis=1, keepdims=True)\n",
        "\n",
        "# Older versions of numpy\n",
        "Y = X - X.mean(axis=1).reshape(-1, 1)\n",
        "\n",
        "print(Y)"
      ],
      "execution_count": 66,
      "outputs": [
        {
          "output_type": "stream",
          "text": [
            "[[ 0.38489936 -0.15073509 -0.48746207  0.46713467 -0.27124615 -0.41387716\n",
            "  -0.18044847  0.00773284  0.35112363  0.29287845]\n",
            " [ 0.37481319  0.04812809  0.44828634 -0.25811931 -0.15876164  0.3947619\n",
            "  -0.44934561 -0.0399594  -0.09345545 -0.26634812]\n",
            " [ 0.22677671  0.00764466  0.29990772 -0.32356765 -0.37657469  0.05305151\n",
            "   0.2586251  -0.47495184  0.29088589  0.03820258]\n",
            " [-0.40752271  0.41625613 -0.24820938 -0.0127327  -0.29456145  0.2491645\n",
            "  -0.5216259   0.02060779  0.41645985  0.38216386]\n",
            " [-0.12946768 -0.0600042  -0.55271111  0.21296872 -0.55863309  0.24575914\n",
            "   0.36336602  0.23438476  0.06589559  0.17844184]]\n"
          ],
          "name": "stdout"
        }
      ]
    },
    {
      "cell_type": "markdown",
      "metadata": {
        "id": "0ZUOeusm6wTm"
      },
      "source": [
        "#### 59. How to sort an array by the nth column? (★★☆) \n",
        "(**hint**: argsort)"
      ]
    },
    {
      "cell_type": "code",
      "metadata": {
        "id": "WvLz2TfK6wTm",
        "colab": {
          "base_uri": "https://localhost:8080/"
        },
        "outputId": "554dc062-a149-4f56-b8e0-bb7e2b52729a"
      },
      "source": [
        "# Author: Steve Tjoa\n",
        "\n",
        "Z = np.random.randint(0,10,(3,3))\n",
        "print(Z)\n",
        "print(Z[Z[:,1].argsort()])"
      ],
      "execution_count": 67,
      "outputs": [
        {
          "output_type": "stream",
          "text": [
            "[[4 0 4]\n",
            " [1 6 9]\n",
            " [8 2 0]]\n",
            "[[4 0 4]\n",
            " [8 2 0]\n",
            " [1 6 9]]\n"
          ],
          "name": "stdout"
        }
      ]
    },
    {
      "cell_type": "markdown",
      "metadata": {
        "id": "XItnqfXN6wTm"
      },
      "source": [
        "#### 60. How to tell if a given 2D array has null columns? (★★☆) \n",
        "(**hint**: any, ~)"
      ]
    },
    {
      "cell_type": "code",
      "metadata": {
        "id": "OzN-jlTr6wTn",
        "colab": {
          "base_uri": "https://localhost:8080/"
        },
        "outputId": "ef68f905-c498-4daa-e39d-a4e704dd5a46"
      },
      "source": [
        "Z = np.random.randint(0,3,(3,10))\n",
        "print((~Z.any(axis=0)).any())"
      ],
      "execution_count": 68,
      "outputs": [
        {
          "output_type": "stream",
          "text": [
            "False\n"
          ],
          "name": "stdout"
        }
      ]
    },
    {
      "cell_type": "markdown",
      "metadata": {
        "id": "KwOczEK86wTn"
      },
      "source": [
        "#### 61. Find the nearest value from a given value in an array (★★☆) \n",
        "(**hint**: np.abs, argmin, flat)"
      ]
    },
    {
      "cell_type": "code",
      "metadata": {
        "id": "HMNT3H426wTn",
        "colab": {
          "base_uri": "https://localhost:8080/"
        },
        "outputId": "044ab521-e5c8-4cb5-90a2-3a96a1b2fbd2"
      },
      "source": [
        "Z = np.random.uniform(0,1,10)\n",
        "z = 0.5\n",
        "m = Z.flat[np.abs(Z - z).argmin()]\n",
        "print(m)"
      ],
      "execution_count": 69,
      "outputs": [
        {
          "output_type": "stream",
          "text": [
            "0.6005289214569711\n"
          ],
          "name": "stdout"
        }
      ]
    },
    {
      "cell_type": "markdown",
      "metadata": {
        "id": "qGmrpNdg6wTn"
      },
      "source": [
        "#### 62. Considering two arrays with shape (1,3) and (3,1), how to compute their sum using an iterator? (★★☆) \n",
        "(**hint**: np.nditer)"
      ]
    },
    {
      "cell_type": "code",
      "metadata": {
        "id": "zCM-bdXT6wTo",
        "colab": {
          "base_uri": "https://localhost:8080/"
        },
        "outputId": "c959d9e4-dc42-4317-a1a3-e2b30202cb01"
      },
      "source": [
        "A = np.arange(3).reshape(3,1)\n",
        "B = np.arange(3).reshape(1,3)\n",
        "it = np.nditer([A,B,None])\n",
        "for x,y,z in it: z[...] = x + y\n",
        "print(it.operands[2])"
      ],
      "execution_count": 70,
      "outputs": [
        {
          "output_type": "stream",
          "text": [
            "[[0 1 2]\n",
            " [1 2 3]\n",
            " [2 3 4]]\n"
          ],
          "name": "stdout"
        }
      ]
    },
    {
      "cell_type": "markdown",
      "metadata": {
        "id": "9zhvs5IT6wTo"
      },
      "source": [
        "#### 63. Create an array class that has a name attribute (★★☆) \n",
        "(**hint**: class method)"
      ]
    },
    {
      "cell_type": "code",
      "metadata": {
        "id": "FNjrpRs36wTo",
        "colab": {
          "base_uri": "https://localhost:8080/"
        },
        "outputId": "132b57c4-8d87-4397-996a-801bb9aafe45"
      },
      "source": [
        "class NamedArray(np.ndarray):\n",
        "    def __new__(cls, array, name=\"no name\"):\n",
        "        obj = np.asarray(array).view(cls)\n",
        "        obj.name = name\n",
        "        return obj\n",
        "    def __array_finalize__(self, obj):\n",
        "        if obj is None: return\n",
        "        self.info = getattr(obj, 'name', \"no name\")\n",
        "\n",
        "Z = NamedArray(np.arange(10), \"range_10\")\n",
        "print (Z.name)"
      ],
      "execution_count": 71,
      "outputs": [
        {
          "output_type": "stream",
          "text": [
            "range_10\n"
          ],
          "name": "stdout"
        }
      ]
    },
    {
      "cell_type": "markdown",
      "metadata": {
        "id": "p6hiWQG_6wTo"
      },
      "source": [
        "#### 64. Consider a given vector, how to add 1 to each element indexed by a second vector (be careful with repeated indices)? (★★★) \n",
        "(**hint**: np.bincount | np.add.at)"
      ]
    },
    {
      "cell_type": "code",
      "metadata": {
        "id": "gNqW0w696wTp",
        "colab": {
          "base_uri": "https://localhost:8080/"
        },
        "outputId": "d7a5074d-bad8-4ec8-c037-34d3a8ac73a6"
      },
      "source": [
        "# Author: Brett Olsen\n",
        "\n",
        "Z = np.ones(10)\n",
        "I = np.random.randint(0,len(Z),20)\n",
        "Z += np.bincount(I, minlength=len(Z))\n",
        "print(Z)\n",
        "\n",
        "# Another solution\n",
        "# Author: Bartosz Telenczuk\n",
        "np.add.at(Z, I, 1)\n",
        "print(Z)"
      ],
      "execution_count": 72,
      "outputs": [
        {
          "output_type": "stream",
          "text": [
            "[4. 1. 2. 2. 3. 2. 7. 1. 3. 5.]\n",
            "[ 7.  1.  3.  3.  5.  3. 13.  1.  5.  9.]\n"
          ],
          "name": "stdout"
        }
      ]
    },
    {
      "cell_type": "markdown",
      "metadata": {
        "id": "75rtUUxD6wTp"
      },
      "source": [
        "#### 65. How to accumulate elements of a vector (X) to an array (F) based on an index list (I)? (★★★) \n",
        "(**hint**: np.bincount)"
      ]
    },
    {
      "cell_type": "code",
      "metadata": {
        "id": "PK3u8j8j6wTp",
        "colab": {
          "base_uri": "https://localhost:8080/"
        },
        "outputId": "99a043e5-cf87-497e-8473-7ca1a52e8507"
      },
      "source": [
        "# Author: Alan G Isaac\n",
        "\n",
        "X = [1,2,3,4,5,6]\n",
        "I = [1,3,9,3,4,1]\n",
        "F = np.bincount(I,X)\n",
        "print(F)"
      ],
      "execution_count": 73,
      "outputs": [
        {
          "output_type": "stream",
          "text": [
            "[0. 7. 0. 6. 5. 0. 0. 0. 0. 3.]\n"
          ],
          "name": "stdout"
        }
      ]
    },
    {
      "cell_type": "markdown",
      "metadata": {
        "id": "2gxQ452h6wTp"
      },
      "source": [
        "#### 66. Considering a (w,h,3) image of (dtype=ubyte), compute the number of unique colors (★★★) \n",
        "(**hint**: np.unique)"
      ]
    },
    {
      "cell_type": "code",
      "metadata": {
        "id": "5MS3tKvo6wTq",
        "colab": {
          "base_uri": "https://localhost:8080/"
        },
        "outputId": "5fdce97c-9bf5-48ff-fef9-039c0f3e6c3d"
      },
      "source": [
        "w,h = 16,16\n",
        "I = np.random.randint(0,2,(h,w,3)).astype(np.ubyte)\n",
        "#Note that we should compute 256*256 first. \n",
        "#Otherwise numpy will only promote F.dtype to 'uint16' and overfolw will occur\n",
        "F = I[...,0]*(256*256) + I[...,1]*256 +I[...,2]\n",
        "n = len(np.unique(F))\n",
        "print(n)"
      ],
      "execution_count": 74,
      "outputs": [
        {
          "output_type": "stream",
          "text": [
            "8\n"
          ],
          "name": "stdout"
        }
      ]
    },
    {
      "cell_type": "markdown",
      "metadata": {
        "id": "0nBM69jz6wTq"
      },
      "source": [
        "#### 67. Considering a four dimensions array, how to get sum over the last two axis at once? (★★★) \n",
        "(**hint**: sum(axis=(-2,-1)))"
      ]
    },
    {
      "cell_type": "code",
      "metadata": {
        "id": "GZGS3n8D6wTq",
        "colab": {
          "base_uri": "https://localhost:8080/"
        },
        "outputId": "26686210-05fc-42fe-bf33-8f54711e424f"
      },
      "source": [
        "A = np.random.randint(0,10,(3,4,3,4))\n",
        "# solution by passing a tuple of axes (introduced in numpy 1.7.0)\n",
        "sum = A.sum(axis=(-2,-1))\n",
        "print(sum)\n",
        "# solution by flattening the last two dimensions into one\n",
        "# (useful for functions that don't accept tuples for axis argument)\n",
        "sum = A.reshape(A.shape[:-2] + (-1,)).sum(axis=-1)\n",
        "print(sum)"
      ],
      "execution_count": 75,
      "outputs": [
        {
          "output_type": "stream",
          "text": [
            "[[52 57 49 48]\n",
            " [47 60 41 65]\n",
            " [55 54 48 57]]\n",
            "[[52 57 49 48]\n",
            " [47 60 41 65]\n",
            " [55 54 48 57]]\n"
          ],
          "name": "stdout"
        }
      ]
    },
    {
      "cell_type": "markdown",
      "metadata": {
        "id": "ThAI2YOV6wTr"
      },
      "source": [
        "#### 68. Considering a one-dimensional vector D, how to compute means of subsets of D using a vector S of same size describing subset  indices? (★★★) \n",
        "(**hint**: np.bincount)"
      ]
    },
    {
      "cell_type": "code",
      "metadata": {
        "id": "Ab7xEXxl6wTr",
        "colab": {
          "base_uri": "https://localhost:8080/"
        },
        "outputId": "90083a11-7d51-4d63-8665-f6a9339862de"
      },
      "source": [
        "D = np.random.uniform(0,1,100)\n",
        "S = np.random.randint(0,10,100)\n",
        "D_sums = np.bincount(S, weights=D)\n",
        "D_counts = np.bincount(S)\n",
        "D_means = D_sums / D_counts\n",
        "print(D_means)\n",
        "\n",
        "# Pandas solution as a reference due to more intuitive code\n",
        "import pandas as pd\n",
        "print(pd.Series(D).groupby(S).mean())"
      ],
      "execution_count": 76,
      "outputs": [
        {
          "output_type": "stream",
          "text": [
            "[0.41870625 0.51550979 0.4362273  0.56562463 0.29262931 0.5480165\n",
            " 0.58507711 0.47952972 0.54757403 0.32717804]\n",
            "0    0.418706\n",
            "1    0.515510\n",
            "2    0.436227\n",
            "3    0.565625\n",
            "4    0.292629\n",
            "5    0.548016\n",
            "6    0.585077\n",
            "7    0.479530\n",
            "8    0.547574\n",
            "9    0.327178\n",
            "dtype: float64\n"
          ],
          "name": "stdout"
        }
      ]
    },
    {
      "cell_type": "markdown",
      "metadata": {
        "id": "fRWiluQV6wTs"
      },
      "source": [
        "#### 69. How to get the diagonal of a dot product? (★★★) \n",
        "(**hint**: np.diag)"
      ]
    },
    {
      "cell_type": "code",
      "metadata": {
        "id": "7HvcPgHM6wTs",
        "colab": {
          "base_uri": "https://localhost:8080/"
        },
        "outputId": "7dd3a016-4c0c-4ae2-9d6b-6531da14f850"
      },
      "source": [
        "\n",
        "A = np.random.uniform(0,1,(5,5))\n",
        "B = np.random.uniform(0,1,(5,5))\n",
        "\n",
        "# Slow version  \n",
        "np.diag(np.dot(A, B))\n",
        "\n",
        "# Fast version\n",
        "np.sum(A * B.T, axis=1)\n",
        "\n",
        "# Faster version\n",
        "np.einsum(\"ij,ji->i\", A, B)"
      ],
      "execution_count": 77,
      "outputs": [
        {
          "output_type": "execute_result",
          "data": {
            "text/plain": [
              "array([1.58077391, 0.47138223, 1.7008522 , 1.01442549, 0.91396469])"
            ]
          },
          "metadata": {},
          "execution_count": 77
        }
      ]
    },
    {
      "cell_type": "markdown",
      "metadata": {
        "id": "RCmgTfuk6wTt"
      },
      "source": [
        "#### 70. Consider the vector \\[1, 2, 3, 4, 5\\], how to build a new vector with 3 consecutive zeros interleaved between each value? (★★★) \n",
        "(**hint**: array\\[::4\\])"
      ]
    },
    {
      "cell_type": "code",
      "metadata": {
        "id": "nFSm0L9Z6wTt",
        "colab": {
          "base_uri": "https://localhost:8080/"
        },
        "outputId": "f6c4b294-3010-40d1-ad92-38ef5c2dfc53"
      },
      "source": [
        "# Author: Warren Weckesser\n",
        "\n",
        "Z = np.array([1,2,3,4,5])\n",
        "nz = 3\n",
        "Z0 = np.zeros(len(Z) + (len(Z)-1)*(nz))\n",
        "Z0[::nz+1] = Z\n",
        "print(Z0)"
      ],
      "execution_count": 78,
      "outputs": [
        {
          "output_type": "stream",
          "text": [
            "[1. 0. 0. 0. 2. 0. 0. 0. 3. 0. 0. 0. 4. 0. 0. 0. 5.]\n"
          ],
          "name": "stdout"
        }
      ]
    },
    {
      "cell_type": "markdown",
      "metadata": {
        "id": "h6p-T6tg6wTt"
      },
      "source": [
        "#### 71. Consider an array of dimension (5,5,3), how to mulitply it by an array with dimensions (5,5)? (★★★) \n",
        "(**hint**: array\\[:, :, None\\])"
      ]
    },
    {
      "cell_type": "code",
      "metadata": {
        "collapsed": true,
        "id": "cE7QV-hD6wTt",
        "colab": {
          "base_uri": "https://localhost:8080/"
        },
        "outputId": "51fdac78-70f1-4243-c4db-d1d9293a4dac"
      },
      "source": [
        "A = np.ones((5,5,3))\n",
        "B = 2*np.ones((5,5))\n",
        "print(A * B[:,:,None])"
      ],
      "execution_count": 79,
      "outputs": [
        {
          "output_type": "stream",
          "text": [
            "[[[2. 2. 2.]\n",
            "  [2. 2. 2.]\n",
            "  [2. 2. 2.]\n",
            "  [2. 2. 2.]\n",
            "  [2. 2. 2.]]\n",
            "\n",
            " [[2. 2. 2.]\n",
            "  [2. 2. 2.]\n",
            "  [2. 2. 2.]\n",
            "  [2. 2. 2.]\n",
            "  [2. 2. 2.]]\n",
            "\n",
            " [[2. 2. 2.]\n",
            "  [2. 2. 2.]\n",
            "  [2. 2. 2.]\n",
            "  [2. 2. 2.]\n",
            "  [2. 2. 2.]]\n",
            "\n",
            " [[2. 2. 2.]\n",
            "  [2. 2. 2.]\n",
            "  [2. 2. 2.]\n",
            "  [2. 2. 2.]\n",
            "  [2. 2. 2.]]\n",
            "\n",
            " [[2. 2. 2.]\n",
            "  [2. 2. 2.]\n",
            "  [2. 2. 2.]\n",
            "  [2. 2. 2.]\n",
            "  [2. 2. 2.]]]\n"
          ],
          "name": "stdout"
        }
      ]
    },
    {
      "cell_type": "markdown",
      "metadata": {
        "id": "gDQmBAVG6wTu"
      },
      "source": [
        "#### 72. How to swap two rows of an array? (★★★) \n",
        "(**hint**: array\\[\\[\\]\\] = array\\[\\[\\]\\])"
      ]
    },
    {
      "cell_type": "code",
      "metadata": {
        "id": "TrxdKZpB6wTu",
        "colab": {
          "base_uri": "https://localhost:8080/"
        },
        "outputId": "d81a88f6-bd61-4e04-f83a-2cc48db24fe0"
      },
      "source": [
        "\n",
        "A = np.arange(25).reshape(5,5)\n",
        "A[[0,1]] = A[[1,0]]\n",
        "print(A)"
      ],
      "execution_count": 80,
      "outputs": [
        {
          "output_type": "stream",
          "text": [
            "[[ 5  6  7  8  9]\n",
            " [ 0  1  2  3  4]\n",
            " [10 11 12 13 14]\n",
            " [15 16 17 18 19]\n",
            " [20 21 22 23 24]]\n"
          ],
          "name": "stdout"
        }
      ]
    },
    {
      "cell_type": "markdown",
      "metadata": {
        "id": "n_KMD0Jf6wTu"
      },
      "source": [
        "#### 73. Consider a set of 10 triplets describing 10 triangles (with shared vertices), find the set of unique line segments composing all the  triangles (★★★) \n",
        "(**hint**: repeat, np.roll, np.sort, view, np.unique)"
      ]
    },
    {
      "cell_type": "code",
      "metadata": {
        "id": "J6CzX6aR6wTv",
        "colab": {
          "base_uri": "https://localhost:8080/"
        },
        "outputId": "fb518c03-12aa-470a-c06d-304a22ed350a"
      },
      "source": [
        "# Author: Nicolas P. Rougier\n",
        "\n",
        "faces = np.random.randint(0,100,(10,3))\n",
        "F = np.roll(faces.repeat(2,axis=1),-1,axis=1)\n",
        "F = F.reshape(len(F)*3,2)\n",
        "F = np.sort(F,axis=1)\n",
        "G = F.view( dtype=[('p0',F.dtype),('p1',F.dtype)] )\n",
        "G = np.unique(G)\n",
        "print(G)"
      ],
      "execution_count": 81,
      "outputs": [
        {
          "output_type": "stream",
          "text": [
            "[( 4,  6) ( 4,  7) ( 6,  7) (16, 26) (16, 80) (23, 27) (23, 77) (26, 49)\n",
            " (26, 59) (26, 80) (27, 77) (28, 47) (28, 88) (42, 47) (42, 70) (44, 45)\n",
            " (44, 51) (44, 58) (44, 97) (45, 58) (46, 63) (46, 74) (47, 70) (47, 88)\n",
            " (49, 59) (51, 97) (63, 74) (65, 89) (65, 99) (89, 99)]\n"
          ],
          "name": "stdout"
        }
      ]
    },
    {
      "cell_type": "markdown",
      "metadata": {
        "id": "1ZkJxSkq6wTv"
      },
      "source": [
        "#### 74. Given an array C that is a bincount, how to produce an array A such that np.bincount(A) == C? (★★★) \n",
        "(**hint**: np.repeat)"
      ]
    },
    {
      "cell_type": "code",
      "metadata": {
        "id": "KE8mTQlM6wTv",
        "colab": {
          "base_uri": "https://localhost:8080/"
        },
        "outputId": "6add060d-bd44-48a7-f6d8-453378350036"
      },
      "source": [
        "C = np.bincount([1,1,2,3,4,4,6])\n",
        "A = np.repeat(np.arange(len(C)), C)\n",
        "print(A)"
      ],
      "execution_count": 82,
      "outputs": [
        {
          "output_type": "stream",
          "text": [
            "[1 1 2 3 4 4 6]\n"
          ],
          "name": "stdout"
        }
      ]
    },
    {
      "cell_type": "markdown",
      "metadata": {
        "id": "CIKKAbqI6wTv"
      },
      "source": [
        "#### 75. How to compute averages using a sliding window over an array? (★★★) \n",
        "(**hint**: np.cumsum)"
      ]
    },
    {
      "cell_type": "code",
      "metadata": {
        "id": "6WZfq2aT6wTw",
        "colab": {
          "base_uri": "https://localhost:8080/"
        },
        "outputId": "3162d2f1-3b67-4a30-cef5-70c4563b7006"
      },
      "source": [
        "# Author: Jaime Fernández del Río\n",
        "\n",
        "def moving_average(a, n=3) :\n",
        "    ret = np.cumsum(a, dtype=float)\n",
        "    ret[n:] = ret[n:] - ret[:-n]\n",
        "    return ret[n - 1:] / n\n",
        "Z = np.arange(20)\n",
        "print(moving_average(Z, n=3))"
      ],
      "execution_count": 83,
      "outputs": [
        {
          "output_type": "stream",
          "text": [
            "[ 1.  2.  3.  4.  5.  6.  7.  8.  9. 10. 11. 12. 13. 14. 15. 16. 17. 18.]\n"
          ],
          "name": "stdout"
        }
      ]
    },
    {
      "cell_type": "markdown",
      "metadata": {
        "id": "9-1JrzhM6wTw"
      },
      "source": [
        "#### 76. Consider a one-dimensional array Z, build a two-dimensional array whose first row is (Z\\[0\\],Z\\[1\\],Z\\[2\\]) and each subsequent row is  shifted by 1 (last row should be (Z\\[-3\\],Z\\[-2\\],Z\\[-1\\]) (★★★) \n",
        "(**hint**: from numpy.lib import stride_tricks)"
      ]
    },
    {
      "cell_type": "code",
      "metadata": {
        "id": "__pulY9o6wTw",
        "colab": {
          "base_uri": "https://localhost:8080/"
        },
        "outputId": "f4d4babf-ade9-447e-d68c-1dff4bea8a01"
      },
      "source": [
        "# Author: Joe Kington / Erik Rigtorp\n",
        "from numpy.lib import stride_tricks\n",
        "\n",
        "def rolling(a, window):\n",
        "    shape = (a.size - window + 1, window)\n",
        "    strides = (a.itemsize, a.itemsize)\n",
        "    return stride_tricks.as_strided(a, shape=shape, strides=strides)\n",
        "Z = rolling(np.arange(10), 3)\n",
        "print(Z)"
      ],
      "execution_count": 84,
      "outputs": [
        {
          "output_type": "stream",
          "text": [
            "[[0 1 2]\n",
            " [1 2 3]\n",
            " [2 3 4]\n",
            " [3 4 5]\n",
            " [4 5 6]\n",
            " [5 6 7]\n",
            " [6 7 8]\n",
            " [7 8 9]]\n"
          ],
          "name": "stdout"
        }
      ]
    },
    {
      "cell_type": "markdown",
      "metadata": {
        "id": "cKJ-x_Oy6wTw"
      },
      "source": [
        "#### 77. How to negate a boolean, or to change the sign of a float inplace? (★★★) \n",
        "(**hint**: np.logical_not, np.negative)"
      ]
    },
    {
      "cell_type": "code",
      "metadata": {
        "id": "eTfAEZxu6wTx",
        "colab": {
          "base_uri": "https://localhost:8080/"
        },
        "outputId": "e50c390c-fd75-4a0f-fed4-49427bc47764"
      },
      "source": [
        "# Author: Nathaniel J. Smith\n",
        "\n",
        "Z = np.random.randint(0,2,100)\n",
        "np.logical_not(Z, out=Z)\n",
        "\n",
        "Z = np.random.uniform(-1.0,1.0,100)\n",
        "np.negative(Z, out=Z)\n"
      ],
      "execution_count": 85,
      "outputs": [
        {
          "output_type": "execute_result",
          "data": {
            "text/plain": [
              "array([ 0.73469101, -0.02880315, -0.14858653, -0.19107388,  0.45267952,\n",
              "       -0.59972109, -0.54787762, -0.78778178, -0.96545777,  0.09979496,\n",
              "       -0.74506007,  0.14499515, -0.47568898,  0.92219311,  0.67861876,\n",
              "       -0.3846864 , -0.87984692,  0.32883755, -0.31484761, -0.90994699,\n",
              "       -0.77639477,  0.90945698, -0.57932707, -0.58151004, -0.96470832,\n",
              "        0.6462114 ,  0.45086159, -0.10024063,  0.39078447, -0.69948274,\n",
              "       -0.40263421, -0.4836589 , -0.79074023, -0.50752703,  0.10350194,\n",
              "        0.78122271,  0.01722982,  0.51441133,  0.14033088, -0.31656026,\n",
              "        0.50227796, -0.79799465, -0.73729954, -0.18986923,  0.71062704,\n",
              "       -0.79141442, -0.44636314,  0.98280088, -0.48283299, -0.38080781,\n",
              "        0.67008262, -0.49162092,  0.35463769, -0.39698905, -0.97148564,\n",
              "       -0.83785387,  0.10541703,  0.63865647,  0.91832777,  0.49572107,\n",
              "       -0.16443975,  0.09136759, -0.64018172,  0.72681669,  0.30833924,\n",
              "        0.91147026,  0.86097287, -0.5234924 ,  0.38702154, -0.19910219,\n",
              "        0.35058761,  0.84065098, -0.14917393,  0.18318786,  0.82337702,\n",
              "       -0.32829303, -0.03797438,  0.16107721, -0.05568248, -0.93687718,\n",
              "        0.47587009, -0.41800358, -0.0529616 ,  0.89771798, -0.04015697,\n",
              "        0.58988232,  0.46506348,  0.35925925, -0.54631166, -0.48341327,\n",
              "       -0.12192651,  0.7950989 , -0.16550557,  0.67572352, -0.86579566,\n",
              "        0.98144   ,  0.51769237,  0.69741572,  0.2237431 ,  0.17500619])"
            ]
          },
          "metadata": {},
          "execution_count": 85
        }
      ]
    },
    {
      "cell_type": "markdown",
      "metadata": {
        "id": "ZCVXNAkl6wTx"
      },
      "source": [
        "#### 78. Consider 2 sets of points P0,P1 describing lines (2d) and a point p, how to compute distance from p to each line i  (P0\\[i\\],P1\\[i\\])? (★★★)"
      ]
    },
    {
      "cell_type": "code",
      "metadata": {
        "id": "0UCGWemt6wTy",
        "colab": {
          "base_uri": "https://localhost:8080/"
        },
        "outputId": "7cbcd591-3990-4a33-bec9-7a6db0901cc4"
      },
      "source": [
        "def distance(P0, P1, p):\n",
        "    T = P1 - P0\n",
        "    L = (T**2).sum(axis=1)\n",
        "    U = -((P0[:,0]-p[...,0])*T[:,0] + (P0[:,1]-p[...,1])*T[:,1]) / L\n",
        "    U = U.reshape(len(U),1)\n",
        "    D = P0 + U*T - p\n",
        "    return np.sqrt((D**2).sum(axis=1))\n",
        "\n",
        "P0 = np.random.uniform(-10,10,(10,2))\n",
        "P1 = np.random.uniform(-10,10,(10,2))\n",
        "p  = np.random.uniform(-10,10,( 1,2))\n",
        "print(distance(P0, P1, p))"
      ],
      "execution_count": 86,
      "outputs": [
        {
          "output_type": "stream",
          "text": [
            "[ 3.29553398 15.40242842  2.96661919  8.53015001  5.86295547  7.13623051\n",
            "  3.79949215  1.62542147  1.1446802  10.84038964]\n"
          ],
          "name": "stdout"
        }
      ]
    },
    {
      "cell_type": "markdown",
      "metadata": {
        "id": "Dfq1_dtj6wTy"
      },
      "source": [
        "#### 79. Consider 2 sets of points P0,P1 describing lines (2d) and a set of points P, how to compute distance from each point j (P\\[j\\]) to each line i (P0\\[i\\],P1\\[i\\])? (★★★)"
      ]
    },
    {
      "cell_type": "code",
      "metadata": {
        "id": "9sjuBncX6wTz",
        "colab": {
          "base_uri": "https://localhost:8080/"
        },
        "outputId": "082e34b1-b37f-4392-85e0-f9b0a3f6afea"
      },
      "source": [
        "# Author: Italmassov Kuanysh\n",
        "\n",
        "# based on distance function from previous question\n",
        "P0 = np.random.uniform(-10, 10, (10,2))\n",
        "P1 = np.random.uniform(-10,10,(10,2))\n",
        "p = np.random.uniform(-10, 10, (10,2))\n",
        "print(np.array([distance(P0,P1,p_i) for p_i in p]))"
      ],
      "execution_count": 87,
      "outputs": [
        {
          "output_type": "stream",
          "text": [
            "[[ 6.19828933  7.99723615  2.6300641   6.67961613  7.02001956  6.61668352\n",
            "   5.49687192  8.51504427  1.39476359  1.04185045]\n",
            " [ 0.64842771  4.28261335  5.59046343  0.03680269  0.1556378   4.2246836\n",
            "   4.6838366   3.5370067  10.20507618  4.99752189]\n",
            " [ 4.36940427  6.61635458 12.71418521  3.96575931  3.62795277  7.504922\n",
            "   3.90567102  7.55605012 11.89833785  6.65949071]\n",
            " [ 1.33544981 10.17580074 10.45838968  0.60133397  0.13744207 10.34534983\n",
            "   2.33539446 10.99266687  7.98104976  7.50751905]\n",
            " [ 9.07671803  1.79145613  1.44702797  8.93793374  9.01822413  0.06657244\n",
            "  10.40762651  2.19790213  0.41024054  5.60905317]\n",
            " [ 0.41913278  4.67144376  5.73672903  0.30274742  0.43585972  4.55661397\n",
            "   4.60793608  3.91648947 10.53528997  5.15483417]\n",
            " [ 3.07815443  8.03637221  5.69774235  3.58008122  3.93742496  7.31623786\n",
            "   2.5612303   8.67850241  4.36857585  3.04811941]\n",
            " [13.24076412  3.89055196  6.67899552 12.52598254 12.36057428  6.5097066\n",
            "  16.33524077  3.64698496  1.9535291  12.66657366]\n",
            " [ 8.6936315   4.21078576  2.28456678  7.97211432  7.81644406  5.85942065\n",
            "  12.19166173  3.78583425  2.48791593 10.03625292]\n",
            " [ 5.34330534  4.54921311 11.41238394  6.02227357  6.12212011  3.21575319\n",
            "   0.83160212  3.56468088 16.01325048  1.41068239]]\n"
          ],
          "name": "stdout"
        }
      ]
    },
    {
      "cell_type": "markdown",
      "metadata": {
        "id": "dOK-TLOo6wTz"
      },
      "source": [
        "#### 80. Consider an arbitrary array, write a function that extract a subpart with a fixed shape and centered on a given element (pad with a `fill` value when necessary) (★★★) \n",
        "(**hint**: minimum, maximum)"
      ]
    },
    {
      "cell_type": "code",
      "metadata": {
        "id": "wTvtuL7o6wTz",
        "colab": {
          "base_uri": "https://localhost:8080/"
        },
        "outputId": "d112a1ac-69b5-4f7e-cc15-e467490d7341"
      },
      "source": [
        "# Author: Nicolas Rougier\n",
        "\n",
        "Z = np.random.randint(0,10,(10,10))\n",
        "shape = (5,5)\n",
        "fill  = 0\n",
        "position = (1,1)\n",
        "\n",
        "R = np.ones(shape, dtype=Z.dtype)*fill\n",
        "P  = np.array(list(position)).astype(int)\n",
        "Rs = np.array(list(R.shape)).astype(int)\n",
        "Zs = np.array(list(Z.shape)).astype(int)\n",
        "\n",
        "R_start = np.zeros((len(shape),)).astype(int)\n",
        "R_stop  = np.array(list(shape)).astype(int)\n",
        "Z_start = (P-Rs//2)\n",
        "Z_stop  = (P+Rs//2)+Rs%2\n",
        "\n",
        "R_start = (R_start - np.minimum(Z_start,0)).tolist()\n",
        "Z_start = (np.maximum(Z_start,0)).tolist()\n",
        "R_stop = np.maximum(R_start, (R_stop - np.maximum(Z_stop-Zs,0))).tolist()\n",
        "Z_stop = (np.minimum(Z_stop,Zs)).tolist()\n",
        "\n",
        "r = [slice(start,stop) for start,stop in zip(R_start,R_stop)]\n",
        "z = [slice(start,stop) for start,stop in zip(Z_start,Z_stop)]\n",
        "R[r] = Z[z]\n",
        "print(Z)\n",
        "print(R)"
      ],
      "execution_count": 88,
      "outputs": [
        {
          "output_type": "stream",
          "text": [
            "[[0 5 5 0 8 1 1 1 4 5]\n",
            " [6 6 4 0 2 9 4 3 7 9]\n",
            " [3 0 1 9 8 3 5 5 0 4]\n",
            " [7 1 0 0 8 6 0 7 9 7]\n",
            " [9 7 6 7 2 0 3 1 1 5]\n",
            " [4 4 6 7 2 8 5 9 3 5]\n",
            " [6 2 2 2 7 1 3 4 8 9]\n",
            " [1 9 3 9 1 3 4 3 5 5]\n",
            " [5 2 0 3 8 8 4 7 6 2]\n",
            " [9 0 9 6 2 1 0 6 5 9]]\n",
            "[[0 0 0 0 0]\n",
            " [0 0 5 5 0]\n",
            " [0 6 6 4 0]\n",
            " [0 3 0 1 9]\n",
            " [0 7 1 0 0]]\n"
          ],
          "name": "stdout"
        },
        {
          "output_type": "stream",
          "text": [
            "/usr/local/lib/python3.7/dist-packages/ipykernel_launcher.py:25: FutureWarning: Using a non-tuple sequence for multidimensional indexing is deprecated; use `arr[tuple(seq)]` instead of `arr[seq]`. In the future this will be interpreted as an array index, `arr[np.array(seq)]`, which will result either in an error or a different result.\n"
          ],
          "name": "stderr"
        }
      ]
    },
    {
      "cell_type": "markdown",
      "metadata": {
        "id": "y_ce22eO6wT0"
      },
      "source": [
        "#### 81. Consider an array Z = \\[1,2,3,4,5,6,7,8,9,10,11,12,13,14\\], how to generate an array R = \\[\\[1,2,3,4\\], \\[2,3,4,5\\], \\[3,4,5,6\\], ..., \\[11,12,13,14\\]\\]? (★★★) \n",
        "(**hint**: stride\\_tricks.as\\_strided)"
      ]
    },
    {
      "cell_type": "code",
      "metadata": {
        "id": "CGy361HJ6wT0",
        "colab": {
          "base_uri": "https://localhost:8080/"
        },
        "outputId": "ff23db69-b246-4806-efc1-7f345d5a1bbe"
      },
      "source": [
        "# Author: Stefan van der Walt\n",
        "\n",
        "Z = np.arange(1,15,dtype=np.uint32)\n",
        "R = stride_tricks.as_strided(Z,(11,4),(4,4))\n",
        "print(R)"
      ],
      "execution_count": 90,
      "outputs": [
        {
          "output_type": "stream",
          "text": [
            "[[ 1  2  3  4]\n",
            " [ 2  3  4  5]\n",
            " [ 3  4  5  6]\n",
            " [ 4  5  6  7]\n",
            " [ 5  6  7  8]\n",
            " [ 6  7  8  9]\n",
            " [ 7  8  9 10]\n",
            " [ 8  9 10 11]\n",
            " [ 9 10 11 12]\n",
            " [10 11 12 13]\n",
            " [11 12 13 14]]\n"
          ],
          "name": "stdout"
        }
      ]
    },
    {
      "cell_type": "markdown",
      "metadata": {
        "id": "7dIASnxA6wT0"
      },
      "source": [
        "#### 82. Compute a matrix rank (★★★) \n",
        "(**hint**: np.linalg.svd) (suggestion: np.linalg.svd)"
      ]
    },
    {
      "cell_type": "code",
      "metadata": {
        "id": "K4RXdEEY6wT0",
        "colab": {
          "base_uri": "https://localhost:8080/"
        },
        "outputId": "98d97094-e38e-4e42-eefc-7a8f4d7c51a2"
      },
      "source": [
        "# Author: Stefan van der Walt\n",
        "\n",
        "Z = np.random.uniform(0,1,(10,10))\n",
        "U, S, V = np.linalg.svd(Z) # Singular Value Decomposition\n",
        "rank = np.sum(S > 1e-10)\n",
        "print(rank)"
      ],
      "execution_count": 91,
      "outputs": [
        {
          "output_type": "stream",
          "text": [
            "10\n"
          ],
          "name": "stdout"
        }
      ]
    },
    {
      "cell_type": "markdown",
      "metadata": {
        "id": "WwTCriui6wT1"
      },
      "source": [
        "#### 83. How to find the most frequent value in an array? \n",
        "(**hint**: np.bincount, argmax)"
      ]
    },
    {
      "cell_type": "code",
      "metadata": {
        "id": "Th_qljRG6wT1",
        "colab": {
          "base_uri": "https://localhost:8080/"
        },
        "outputId": "920e20e5-e8d5-4628-9734-d77ca5c6e4c6"
      },
      "source": [
        "Z = np.random.randint(0,10,50)\n",
        "print(np.bincount(Z).argmax())"
      ],
      "execution_count": 92,
      "outputs": [
        {
          "output_type": "stream",
          "text": [
            "9\n"
          ],
          "name": "stdout"
        }
      ]
    },
    {
      "cell_type": "markdown",
      "metadata": {
        "id": "uI5IXipz6wT1"
      },
      "source": [
        "#### 84. Extract all the contiguous 3x3 blocks from a random 10x10 matrix (★★★) \n",
        "(**hint**: stride\\_tricks.as\\_strided)"
      ]
    },
    {
      "cell_type": "code",
      "metadata": {
        "id": "Pw8eHUqL6wT1",
        "colab": {
          "base_uri": "https://localhost:8080/"
        },
        "outputId": "117c263b-f431-4f4d-d0fd-fbc0ae562d8c"
      },
      "source": [
        "# Author: Chris Barker\n",
        "\n",
        "Z = np.random.randint(0,5,(10,10))\n",
        "n = 3\n",
        "i = 1 + (Z.shape[0]-3)\n",
        "j = 1 + (Z.shape[1]-3)\n",
        "C = stride_tricks.as_strided(Z, shape=(i, j, n, n), strides=Z.strides + Z.strides)\n",
        "print(C)"
      ],
      "execution_count": 93,
      "outputs": [
        {
          "output_type": "stream",
          "text": [
            "[[[[1 4 4]\n",
            "   [3 1 4]\n",
            "   [1 1 4]]\n",
            "\n",
            "  [[4 4 3]\n",
            "   [1 4 2]\n",
            "   [1 4 3]]\n",
            "\n",
            "  [[4 3 2]\n",
            "   [4 2 2]\n",
            "   [4 3 2]]\n",
            "\n",
            "  [[3 2 0]\n",
            "   [2 2 0]\n",
            "   [3 2 4]]\n",
            "\n",
            "  [[2 0 0]\n",
            "   [2 0 1]\n",
            "   [2 4 2]]\n",
            "\n",
            "  [[0 0 4]\n",
            "   [0 1 0]\n",
            "   [4 2 4]]\n",
            "\n",
            "  [[0 4 4]\n",
            "   [1 0 2]\n",
            "   [2 4 1]]\n",
            "\n",
            "  [[4 4 2]\n",
            "   [0 2 4]\n",
            "   [4 1 4]]]\n",
            "\n",
            "\n",
            " [[[3 1 4]\n",
            "   [1 1 4]\n",
            "   [3 1 0]]\n",
            "\n",
            "  [[1 4 2]\n",
            "   [1 4 3]\n",
            "   [1 0 2]]\n",
            "\n",
            "  [[4 2 2]\n",
            "   [4 3 2]\n",
            "   [0 2 0]]\n",
            "\n",
            "  [[2 2 0]\n",
            "   [3 2 4]\n",
            "   [2 0 0]]\n",
            "\n",
            "  [[2 0 1]\n",
            "   [2 4 2]\n",
            "   [0 0 3]]\n",
            "\n",
            "  [[0 1 0]\n",
            "   [4 2 4]\n",
            "   [0 3 2]]\n",
            "\n",
            "  [[1 0 2]\n",
            "   [2 4 1]\n",
            "   [3 2 3]]\n",
            "\n",
            "  [[0 2 4]\n",
            "   [4 1 4]\n",
            "   [2 3 3]]]\n",
            "\n",
            "\n",
            " [[[1 1 4]\n",
            "   [3 1 0]\n",
            "   [3 3 2]]\n",
            "\n",
            "  [[1 4 3]\n",
            "   [1 0 2]\n",
            "   [3 2 0]]\n",
            "\n",
            "  [[4 3 2]\n",
            "   [0 2 0]\n",
            "   [2 0 2]]\n",
            "\n",
            "  [[3 2 4]\n",
            "   [2 0 0]\n",
            "   [0 2 0]]\n",
            "\n",
            "  [[2 4 2]\n",
            "   [0 0 3]\n",
            "   [2 0 3]]\n",
            "\n",
            "  [[4 2 4]\n",
            "   [0 3 2]\n",
            "   [0 3 1]]\n",
            "\n",
            "  [[2 4 1]\n",
            "   [3 2 3]\n",
            "   [3 1 1]]\n",
            "\n",
            "  [[4 1 4]\n",
            "   [2 3 3]\n",
            "   [1 1 1]]]\n",
            "\n",
            "\n",
            " [[[3 1 0]\n",
            "   [3 3 2]\n",
            "   [0 3 2]]\n",
            "\n",
            "  [[1 0 2]\n",
            "   [3 2 0]\n",
            "   [3 2 1]]\n",
            "\n",
            "  [[0 2 0]\n",
            "   [2 0 2]\n",
            "   [2 1 3]]\n",
            "\n",
            "  [[2 0 0]\n",
            "   [0 2 0]\n",
            "   [1 3 2]]\n",
            "\n",
            "  [[0 0 3]\n",
            "   [2 0 3]\n",
            "   [3 2 0]]\n",
            "\n",
            "  [[0 3 2]\n",
            "   [0 3 1]\n",
            "   [2 0 0]]\n",
            "\n",
            "  [[3 2 3]\n",
            "   [3 1 1]\n",
            "   [0 0 2]]\n",
            "\n",
            "  [[2 3 3]\n",
            "   [1 1 1]\n",
            "   [0 2 4]]]\n",
            "\n",
            "\n",
            " [[[3 3 2]\n",
            "   [0 3 2]\n",
            "   [4 4 1]]\n",
            "\n",
            "  [[3 2 0]\n",
            "   [3 2 1]\n",
            "   [4 1 1]]\n",
            "\n",
            "  [[2 0 2]\n",
            "   [2 1 3]\n",
            "   [1 1 4]]\n",
            "\n",
            "  [[0 2 0]\n",
            "   [1 3 2]\n",
            "   [1 4 3]]\n",
            "\n",
            "  [[2 0 3]\n",
            "   [3 2 0]\n",
            "   [4 3 1]]\n",
            "\n",
            "  [[0 3 1]\n",
            "   [2 0 0]\n",
            "   [3 1 0]]\n",
            "\n",
            "  [[3 1 1]\n",
            "   [0 0 2]\n",
            "   [1 0 3]]\n",
            "\n",
            "  [[1 1 1]\n",
            "   [0 2 4]\n",
            "   [0 3 0]]]\n",
            "\n",
            "\n",
            " [[[0 3 2]\n",
            "   [4 4 1]\n",
            "   [4 2 2]]\n",
            "\n",
            "  [[3 2 1]\n",
            "   [4 1 1]\n",
            "   [2 2 1]]\n",
            "\n",
            "  [[2 1 3]\n",
            "   [1 1 4]\n",
            "   [2 1 1]]\n",
            "\n",
            "  [[1 3 2]\n",
            "   [1 4 3]\n",
            "   [1 1 2]]\n",
            "\n",
            "  [[3 2 0]\n",
            "   [4 3 1]\n",
            "   [1 2 4]]\n",
            "\n",
            "  [[2 0 0]\n",
            "   [3 1 0]\n",
            "   [2 4 1]]\n",
            "\n",
            "  [[0 0 2]\n",
            "   [1 0 3]\n",
            "   [4 1 0]]\n",
            "\n",
            "  [[0 2 4]\n",
            "   [0 3 0]\n",
            "   [1 0 2]]]\n",
            "\n",
            "\n",
            " [[[4 4 1]\n",
            "   [4 2 2]\n",
            "   [0 3 3]]\n",
            "\n",
            "  [[4 1 1]\n",
            "   [2 2 1]\n",
            "   [3 3 0]]\n",
            "\n",
            "  [[1 1 4]\n",
            "   [2 1 1]\n",
            "   [3 0 0]]\n",
            "\n",
            "  [[1 4 3]\n",
            "   [1 1 2]\n",
            "   [0 0 4]]\n",
            "\n",
            "  [[4 3 1]\n",
            "   [1 2 4]\n",
            "   [0 4 0]]\n",
            "\n",
            "  [[3 1 0]\n",
            "   [2 4 1]\n",
            "   [4 0 1]]\n",
            "\n",
            "  [[1 0 3]\n",
            "   [4 1 0]\n",
            "   [0 1 3]]\n",
            "\n",
            "  [[0 3 0]\n",
            "   [1 0 2]\n",
            "   [1 3 3]]]\n",
            "\n",
            "\n",
            " [[[4 2 2]\n",
            "   [0 3 3]\n",
            "   [3 0 4]]\n",
            "\n",
            "  [[2 2 1]\n",
            "   [3 3 0]\n",
            "   [0 4 0]]\n",
            "\n",
            "  [[2 1 1]\n",
            "   [3 0 0]\n",
            "   [4 0 1]]\n",
            "\n",
            "  [[1 1 2]\n",
            "   [0 0 4]\n",
            "   [0 1 4]]\n",
            "\n",
            "  [[1 2 4]\n",
            "   [0 4 0]\n",
            "   [1 4 4]]\n",
            "\n",
            "  [[2 4 1]\n",
            "   [4 0 1]\n",
            "   [4 4 2]]\n",
            "\n",
            "  [[4 1 0]\n",
            "   [0 1 3]\n",
            "   [4 2 4]]\n",
            "\n",
            "  [[1 0 2]\n",
            "   [1 3 3]\n",
            "   [2 4 0]]]]\n"
          ],
          "name": "stdout"
        }
      ]
    },
    {
      "cell_type": "markdown",
      "metadata": {
        "id": "ezTtqbLq6wT2"
      },
      "source": [
        "#### 85. Create a 2D array subclass such that Z\\[i,j\\] == Z\\[j,i\\] (★★★) \n",
        "(**hint**: class method)"
      ]
    },
    {
      "cell_type": "code",
      "metadata": {
        "id": "Y2cditEO6wT2",
        "colab": {
          "base_uri": "https://localhost:8080/"
        },
        "outputId": "ba428e40-58f0-468b-e255-1ed56e6bd990"
      },
      "source": [
        "# Author: Eric O. Lebigot\n",
        "# Note: only works for 2d array and value setting using indices\n",
        "\n",
        "class Symetric(np.ndarray):\n",
        "    def __setitem__(self, index, value):\n",
        "        i,j = index\n",
        "        super(Symetric, self).__setitem__((i,j), value)\n",
        "        super(Symetric, self).__setitem__((j,i), value)\n",
        "\n",
        "def symetric(Z):\n",
        "    return np.asarray(Z + Z.T - np.diag(Z.diagonal())).view(Symetric)\n",
        "\n",
        "S = symetric(np.random.randint(0,10,(5,5)))\n",
        "S[2,3] = 42\n",
        "print(S)"
      ],
      "execution_count": 94,
      "outputs": [
        {
          "output_type": "stream",
          "text": [
            "[[ 6  5  7  6  8]\n",
            " [ 5  2  7 14  7]\n",
            " [ 7  7  7 42  5]\n",
            " [ 6 14 42  1 16]\n",
            " [ 8  7  5 16  3]]\n"
          ],
          "name": "stdout"
        }
      ]
    },
    {
      "cell_type": "markdown",
      "metadata": {
        "id": "11_BEuiC6wT2"
      },
      "source": [
        "#### 86. Consider a set of p matrices wich shape (n,n) and a set of p vectors with shape (n,1). How to compute the sum of of the p matrix products at once? (result has shape (n,1)) (★★★) \n",
        "(**hint**: np.tensordot)"
      ]
    },
    {
      "cell_type": "code",
      "metadata": {
        "id": "RltDLcaP6wT2",
        "colab": {
          "base_uri": "https://localhost:8080/"
        },
        "outputId": "da42418c-bad0-48f1-ee00-ae2f1b985a29"
      },
      "source": [
        "\n",
        "\n",
        "p, n = 10, 20\n",
        "M = np.ones((p,n,n))\n",
        "V = np.ones((p,n,1))\n",
        "S = np.tensordot(M, V, axes=[[0, 2], [0, 1]])\n",
        "print(S)\n",
        "\n",
        "# It works, because:\n",
        "# M is (p,n,n)\n",
        "# V is (p,n,1)\n",
        "# Thus, summing over the paired axes 0 and 0 (of M and V independently),\n",
        "# and 2 and 1, to remain with a (n,1) vector."
      ],
      "execution_count": 95,
      "outputs": [
        {
          "output_type": "stream",
          "text": [
            "[[200.]\n",
            " [200.]\n",
            " [200.]\n",
            " [200.]\n",
            " [200.]\n",
            " [200.]\n",
            " [200.]\n",
            " [200.]\n",
            " [200.]\n",
            " [200.]\n",
            " [200.]\n",
            " [200.]\n",
            " [200.]\n",
            " [200.]\n",
            " [200.]\n",
            " [200.]\n",
            " [200.]\n",
            " [200.]\n",
            " [200.]\n",
            " [200.]]\n"
          ],
          "name": "stdout"
        }
      ]
    },
    {
      "cell_type": "markdown",
      "metadata": {
        "id": "RwfmVlBP6wT3"
      },
      "source": [
        "#### 87. Consider a 16x16 array, how to get the block-sum (block size is 4x4)? (★★★) \n",
        "(**hint**: np.add.reduceat)"
      ]
    },
    {
      "cell_type": "code",
      "metadata": {
        "id": "pl4pUqlH6wT3",
        "colab": {
          "base_uri": "https://localhost:8080/"
        },
        "outputId": "07a9bcdf-1d1c-44fd-81b7-aa00c56ab704"
      },
      "source": [
        "\n",
        "Z = np.ones((16,16))\n",
        "k = 4\n",
        "S = np.add.reduceat(np.add.reduceat(Z, np.arange(0, Z.shape[0], k), axis=0),\n",
        "                                       np.arange(0, Z.shape[1], k), axis=1)\n",
        "print(S)"
      ],
      "execution_count": 96,
      "outputs": [
        {
          "output_type": "stream",
          "text": [
            "[[16. 16. 16. 16.]\n",
            " [16. 16. 16. 16.]\n",
            " [16. 16. 16. 16.]\n",
            " [16. 16. 16. 16.]]\n"
          ],
          "name": "stdout"
        }
      ]
    },
    {
      "cell_type": "markdown",
      "metadata": {
        "id": "5rD_2O1A6wT3"
      },
      "source": [
        "#### 88. How to implement the Game of Life using numpy arrays? (★★★)"
      ]
    },
    {
      "cell_type": "code",
      "metadata": {
        "id": "12FXwHeq6wT3",
        "colab": {
          "base_uri": "https://localhost:8080/"
        },
        "outputId": "5afc0c70-8461-4d23-9d3f-83c5ec3f0fdb"
      },
      "source": [
        "# Author: Nicolas Rougier\n",
        "\n",
        "def iterate(Z):\n",
        "    # Count neighbours\n",
        "    N = (Z[0:-2,0:-2] + Z[0:-2,1:-1] + Z[0:-2,2:] +\n",
        "         Z[1:-1,0:-2]                + Z[1:-1,2:] +\n",
        "         Z[2:  ,0:-2] + Z[2:  ,1:-1] + Z[2:  ,2:])\n",
        "\n",
        "    # Apply rules\n",
        "    birth = (N==3) & (Z[1:-1,1:-1]==0)\n",
        "    survive = ((N==2) | (N==3)) & (Z[1:-1,1:-1]==1)\n",
        "    Z[...] = 0\n",
        "    Z[1:-1,1:-1][birth | survive] = 1\n",
        "    return Z\n",
        "\n",
        "Z = np.random.randint(0,2,(50,50))\n",
        "for i in range(100): Z = iterate(Z)\n",
        "print(Z)"
      ],
      "execution_count": 97,
      "outputs": [
        {
          "output_type": "stream",
          "text": [
            "[[0 0 0 ... 0 0 0]\n",
            " [0 0 0 ... 0 0 0]\n",
            " [0 0 0 ... 0 0 0]\n",
            " ...\n",
            " [0 0 0 ... 0 0 0]\n",
            " [0 0 0 ... 0 0 0]\n",
            " [0 0 0 ... 0 0 0]]\n"
          ],
          "name": "stdout"
        }
      ]
    },
    {
      "cell_type": "markdown",
      "metadata": {
        "id": "mHWwPFmM6wT4"
      },
      "source": [
        "#### 89. How to get the n largest values of an array (★★★) \n",
        "(**hint**: np.argsort | np.argpartition)"
      ]
    },
    {
      "cell_type": "code",
      "metadata": {
        "id": "INxS_I3K6wT4",
        "colab": {
          "base_uri": "https://localhost:8080/"
        },
        "outputId": "c8c54e91-313a-4b27-de01-6c7a68d97155"
      },
      "source": [
        "Z = np.arange(10000)\n",
        "np.random.shuffle(Z)\n",
        "n = 5\n",
        "\n",
        "# Slow\n",
        "print (Z[np.argsort(Z)[-n:]])\n",
        "\n",
        "# Fast\n",
        "print (Z[np.argpartition(-Z,n)[:n]])"
      ],
      "execution_count": 98,
      "outputs": [
        {
          "output_type": "stream",
          "text": [
            "[9995 9996 9997 9998 9999]\n",
            "[9999 9998 9997 9996 9995]\n"
          ],
          "name": "stdout"
        }
      ]
    },
    {
      "cell_type": "markdown",
      "metadata": {
        "id": "1GU0kChs6wT4"
      },
      "source": [
        "#### 90. Given an arbitrary number of vectors, build the cartesian product (every combinations of every item) (★★★) \n",
        "(**hint**: np.indices)"
      ]
    },
    {
      "cell_type": "code",
      "metadata": {
        "scrolled": true,
        "id": "CVo3Ek096wT4",
        "colab": {
          "base_uri": "https://localhost:8080/"
        },
        "outputId": "06929efa-4187-429d-9e26-65c86d1a0052"
      },
      "source": [
        "# Author: Stefan Van der Walt\n",
        "\n",
        "def cartesian(arrays):\n",
        "    arrays = [np.asarray(a) for a in arrays]\n",
        "    shape = (len(x) for x in arrays)\n",
        "\n",
        "    ix = np.indices(shape, dtype=int)\n",
        "    ix = ix.reshape(len(arrays), -1).T\n",
        "\n",
        "    for n, arr in enumerate(arrays):\n",
        "        ix[:, n] = arrays[n][ix[:, n]]\n",
        "\n",
        "    return ix\n",
        "\n",
        "print (cartesian(([1, 2, 3], [4, 5], [6, 7])))\n"
      ],
      "execution_count": 99,
      "outputs": [
        {
          "output_type": "stream",
          "text": [
            "[[1 4 6]\n",
            " [1 4 7]\n",
            " [1 5 6]\n",
            " [1 5 7]\n",
            " [2 4 6]\n",
            " [2 4 7]\n",
            " [2 5 6]\n",
            " [2 5 7]\n",
            " [3 4 6]\n",
            " [3 4 7]\n",
            " [3 5 6]\n",
            " [3 5 7]]\n"
          ],
          "name": "stdout"
        }
      ]
    },
    {
      "cell_type": "markdown",
      "metadata": {
        "id": "nDbF8hcZ6wT5"
      },
      "source": [
        "#### 91. How to create a record array from a regular array? (★★★) \n",
        "(**hint**: np.core.records.fromarrays)"
      ]
    },
    {
      "cell_type": "code",
      "metadata": {
        "id": "WZBe7FxN6wT5",
        "colab": {
          "base_uri": "https://localhost:8080/"
        },
        "outputId": "8b8e07d2-7349-467f-f7fd-d56bb9b51a8a"
      },
      "source": [
        "Z = np.array([(\"Hello\", 2.5, 3),\n",
        "              (\"World\", 3.6, 2)])\n",
        "R = np.core.records.fromarrays(Z.T, \n",
        "                               names='col1, col2, col3',\n",
        "                               formats = 'S8, f8, i8')\n",
        "print(R)"
      ],
      "execution_count": 100,
      "outputs": [
        {
          "output_type": "stream",
          "text": [
            "[(b'Hello', 2.5, 3) (b'World', 3.6, 2)]\n"
          ],
          "name": "stdout"
        }
      ]
    },
    {
      "cell_type": "markdown",
      "metadata": {
        "id": "3rqplRKZ6wT5"
      },
      "source": [
        "#### 92. Consider a large vector Z, compute Z to the power of 3 using 3 different methods (★★★) \n",
        "(**hint**: np.power, \\*, np.einsum)"
      ]
    },
    {
      "cell_type": "code",
      "metadata": {
        "id": "zK-jVwBR6wT6",
        "colab": {
          "base_uri": "https://localhost:8080/",
          "height": 333
        },
        "outputId": "53ef61f5-dbe2-4390-e33e-88c62c7a0748"
      },
      "source": [
        "# Author: Ryan G.\n",
        "\n",
        "x = np.random.rand(5e7)\n",
        "\n",
        "%timeit np.power(x,3)\n",
        "%timeit x*x*x\n",
        "%timeit np.einsum('i,i,i->i',x,x,x)"
      ],
      "execution_count": 101,
      "outputs": [
        {
          "output_type": "error",
          "ename": "TypeError",
          "evalue": "ignored",
          "traceback": [
            "\u001b[0;31m---------------------------------------------------------------------------\u001b[0m",
            "\u001b[0;31mTypeError\u001b[0m                                 Traceback (most recent call last)",
            "\u001b[0;32m<ipython-input-101-21df8113d55b>\u001b[0m in \u001b[0;36m<module>\u001b[0;34m()\u001b[0m\n\u001b[1;32m      1\u001b[0m \u001b[0;31m# Author: Ryan G.\u001b[0m\u001b[0;34m\u001b[0m\u001b[0;34m\u001b[0m\u001b[0;34m\u001b[0m\u001b[0m\n\u001b[1;32m      2\u001b[0m \u001b[0;34m\u001b[0m\u001b[0m\n\u001b[0;32m----> 3\u001b[0;31m \u001b[0mx\u001b[0m \u001b[0;34m=\u001b[0m \u001b[0mnp\u001b[0m\u001b[0;34m.\u001b[0m\u001b[0mrandom\u001b[0m\u001b[0;34m.\u001b[0m\u001b[0mrand\u001b[0m\u001b[0;34m(\u001b[0m\u001b[0;36m5e7\u001b[0m\u001b[0;34m)\u001b[0m\u001b[0;34m\u001b[0m\u001b[0;34m\u001b[0m\u001b[0m\n\u001b[0m\u001b[1;32m      4\u001b[0m \u001b[0;34m\u001b[0m\u001b[0m\n\u001b[1;32m      5\u001b[0m \u001b[0mget_ipython\u001b[0m\u001b[0;34m(\u001b[0m\u001b[0;34m)\u001b[0m\u001b[0;34m.\u001b[0m\u001b[0mmagic\u001b[0m\u001b[0;34m(\u001b[0m\u001b[0;34m'timeit np.power(x,3)'\u001b[0m\u001b[0;34m)\u001b[0m\u001b[0;34m\u001b[0m\u001b[0;34m\u001b[0m\u001b[0m\n",
            "\u001b[0;32mmtrand.pyx\u001b[0m in \u001b[0;36mnumpy.random.mtrand.RandomState.rand\u001b[0;34m()\u001b[0m\n",
            "\u001b[0;32mmtrand.pyx\u001b[0m in \u001b[0;36mnumpy.random.mtrand.RandomState.random_sample\u001b[0;34m()\u001b[0m\n",
            "\u001b[0;32m_common.pyx\u001b[0m in \u001b[0;36mnumpy.random._common.double_fill\u001b[0;34m()\u001b[0m\n",
            "\u001b[0;31mTypeError\u001b[0m: 'float' object cannot be interpreted as an integer"
          ]
        }
      ]
    },
    {
      "cell_type": "markdown",
      "metadata": {
        "id": "deY0mID36wT6"
      },
      "source": [
        "#### 93. Consider two arrays A and B of shape (8,3) and (2,2). How to find rows of A that contain elements of each row of B regardless of the order of the elements in B? (★★★) \n",
        "(**hint**: np.where)"
      ]
    },
    {
      "cell_type": "code",
      "metadata": {
        "id": "3gY6JJjT6wT7",
        "colab": {
          "base_uri": "https://localhost:8080/"
        },
        "outputId": "efc141f5-a33e-4976-d715-f2f597ed8324"
      },
      "source": [
        "# Author: Gabe Schwartz\n",
        "\n",
        "A = np.random.randint(0,5,(8,3))\n",
        "B = np.random.randint(0,5,(2,2))\n",
        "\n",
        "C = (A[..., np.newaxis, np.newaxis] == B)\n",
        "rows = np.where(C.any((3,1)).all(1))[0]\n",
        "print(rows)"
      ],
      "execution_count": 102,
      "outputs": [
        {
          "output_type": "stream",
          "text": [
            "[3 5]\n"
          ],
          "name": "stdout"
        }
      ]
    },
    {
      "cell_type": "markdown",
      "metadata": {
        "id": "0nwZaSYj6wT7"
      },
      "source": [
        "#### 94. Considering a 10x3 matrix, extract rows with unequal values (e.g. \\[2,2,3\\]) (★★★)"
      ]
    },
    {
      "cell_type": "code",
      "metadata": {
        "id": "R9jn4mF_6wT8",
        "colab": {
          "base_uri": "https://localhost:8080/"
        },
        "outputId": "bb5c9bc9-eb97-4637-d0c5-510aa744e500"
      },
      "source": [
        "\n",
        "Z = np.random.randint(0,5,(10,3))\n",
        "print(Z)\n",
        "# solution for arrays of all dtypes (including string arrays and record arrays)\n",
        "E = np.all(Z[:,1:] == Z[:,:-1], axis=1)\n",
        "U = Z[~E]\n",
        "print(U)\n",
        "# soluiton for numerical arrays only, will work for any number of columns in Z\n",
        "U = Z[Z.max(axis=1) != Z.min(axis=1),:]\n",
        "print(U)"
      ],
      "execution_count": 103,
      "outputs": [
        {
          "output_type": "stream",
          "text": [
            "[[2 4 1]\n",
            " [4 1 3]\n",
            " [1 2 1]\n",
            " [1 4 4]\n",
            " [4 4 4]\n",
            " [2 4 1]\n",
            " [4 3 1]\n",
            " [4 3 3]\n",
            " [2 1 2]\n",
            " [1 3 4]]\n",
            "[[2 4 1]\n",
            " [4 1 3]\n",
            " [1 2 1]\n",
            " [1 4 4]\n",
            " [2 4 1]\n",
            " [4 3 1]\n",
            " [4 3 3]\n",
            " [2 1 2]\n",
            " [1 3 4]]\n",
            "[[2 4 1]\n",
            " [4 1 3]\n",
            " [1 2 1]\n",
            " [1 4 4]\n",
            " [2 4 1]\n",
            " [4 3 1]\n",
            " [4 3 3]\n",
            " [2 1 2]\n",
            " [1 3 4]]\n"
          ],
          "name": "stdout"
        }
      ]
    },
    {
      "cell_type": "markdown",
      "metadata": {
        "id": "lpSkIi6o6wT8"
      },
      "source": [
        "#### 95. Convert a vector of ints into a matrix binary representation (★★★) \n",
        "(**hint**: np.unpackbits)"
      ]
    },
    {
      "cell_type": "code",
      "metadata": {
        "id": "TcZSxd1L6wT9",
        "colab": {
          "base_uri": "https://localhost:8080/"
        },
        "outputId": "40223232-f556-41b6-a7e2-e6af79f7054f"
      },
      "source": [
        "# Author: Warren Weckesser\n",
        "\n",
        "I = np.array([0, 1, 2, 3, 15, 16, 32, 64, 128])\n",
        "B = ((I.reshape(-1,1) & (2**np.arange(8))) != 0).astype(int)\n",
        "print(B[:,::-1])\n",
        "\n",
        "# Author: Daniel T. McDonald\n",
        "\n",
        "I = np.array([0, 1, 2, 3, 15, 16, 32, 64, 128], dtype=np.uint8)\n",
        "print(np.unpackbits(I[:, np.newaxis], axis=1))"
      ],
      "execution_count": 104,
      "outputs": [
        {
          "output_type": "stream",
          "text": [
            "[[0 0 0 0 0 0 0 0]\n",
            " [0 0 0 0 0 0 0 1]\n",
            " [0 0 0 0 0 0 1 0]\n",
            " [0 0 0 0 0 0 1 1]\n",
            " [0 0 0 0 1 1 1 1]\n",
            " [0 0 0 1 0 0 0 0]\n",
            " [0 0 1 0 0 0 0 0]\n",
            " [0 1 0 0 0 0 0 0]\n",
            " [1 0 0 0 0 0 0 0]]\n",
            "[[0 0 0 0 0 0 0 0]\n",
            " [0 0 0 0 0 0 0 1]\n",
            " [0 0 0 0 0 0 1 0]\n",
            " [0 0 0 0 0 0 1 1]\n",
            " [0 0 0 0 1 1 1 1]\n",
            " [0 0 0 1 0 0 0 0]\n",
            " [0 0 1 0 0 0 0 0]\n",
            " [0 1 0 0 0 0 0 0]\n",
            " [1 0 0 0 0 0 0 0]]\n"
          ],
          "name": "stdout"
        }
      ]
    },
    {
      "cell_type": "markdown",
      "metadata": {
        "id": "tCQFluL26wT9"
      },
      "source": [
        "#### 96. Given a two dimensional array, how to extract unique rows? (★★★) \n",
        "(**hint**: np.ascontiguousarray)"
      ]
    },
    {
      "cell_type": "code",
      "metadata": {
        "id": "bOp5FR0L6wT9",
        "colab": {
          "base_uri": "https://localhost:8080/"
        },
        "outputId": "a5bc4ed4-892c-4ceb-ba45-3b99e37ac182"
      },
      "source": [
        "# Author: Jaime Fernández del Río\n",
        "\n",
        "Z = np.random.randint(0,2,(6,3))\n",
        "T = np.ascontiguousarray(Z).view(np.dtype((np.void, Z.dtype.itemsize * Z.shape[1])))\n",
        "_, idx = np.unique(T, return_index=True)\n",
        "uZ = Z[idx]\n",
        "print(uZ)\n",
        "\n",
        "# Author: Andreas Kouzelis\n",
        "# NumPy >= 1.13\n",
        "uZ = np.unique(Z, axis=0)\n",
        "print(uZ)"
      ],
      "execution_count": 105,
      "outputs": [
        {
          "output_type": "stream",
          "text": [
            "[[0 0 1]\n",
            " [0 1 1]\n",
            " [1 0 0]\n",
            " [1 1 0]]\n",
            "[[0 0 1]\n",
            " [0 1 1]\n",
            " [1 0 0]\n",
            " [1 1 0]]\n"
          ],
          "name": "stdout"
        }
      ]
    },
    {
      "cell_type": "markdown",
      "metadata": {
        "id": "agcIHCMv6wT9"
      },
      "source": [
        "#### 97. Considering 2 vectors A & B, write the einsum equivalent of inner, outer, sum, and mul function (★★★) \n",
        "(**hint**: np.einsum)"
      ]
    },
    {
      "cell_type": "code",
      "metadata": {
        "id": "NMoP9nYL6wT9",
        "colab": {
          "base_uri": "https://localhost:8080/"
        },
        "outputId": "a0000f2a-f64f-424f-91eb-1bc9101b0aa8"
      },
      "source": [
        "# Author: Alex Riley\n",
        "# Make sure to read: http://ajcr.net/Basic-guide-to-einsum/\n",
        "\n",
        "A = np.random.uniform(0,1,10)\n",
        "B = np.random.uniform(0,1,10)\n",
        "\n",
        "np.einsum('i->', A)       # np.sum(A)\n",
        "np.einsum('i,i->i', A, B) # A * B\n",
        "np.einsum('i,i', A, B)    # np.inner(A, B)\n",
        "np.einsum('i,j->ij', A, B)    # np.outer(A, B)"
      ],
      "execution_count": 106,
      "outputs": [
        {
          "output_type": "execute_result",
          "data": {
            "text/plain": [
              "array([[0.42802817, 0.46978184, 0.11764442, 0.26406245, 0.57872159,\n",
              "        0.82401058, 0.27584393, 0.75635503, 0.25944526, 0.5044076 ],\n",
              "       [0.14023829, 0.15391838, 0.03854478, 0.08651689, 0.18961118,\n",
              "        0.26997718, 0.09037695, 0.24781065, 0.08500413, 0.1652631 ],\n",
              "       [0.15405724, 0.16908535, 0.04234295, 0.09504218, 0.20829529,\n",
              "        0.29658047, 0.09928261, 0.27222968, 0.09338035, 0.18154797],\n",
              "       [0.16556127, 0.18171159, 0.04550486, 0.10213934, 0.22384948,\n",
              "        0.31872725, 0.10669642, 0.29255809, 0.10035341, 0.19510483],\n",
              "       [0.1388969 , 0.15244614, 0.0381761 , 0.08568935, 0.18779753,\n",
              "        0.26739482, 0.08951249, 0.24544032, 0.08419105, 0.16368234],\n",
              "       [0.39291029, 0.43123826, 0.1079922 , 0.24239726, 0.53123996,\n",
              "        0.75640405, 0.25321212, 0.69429935, 0.23815889, 0.46302312],\n",
              "       [0.22855221, 0.25084723, 0.06281805, 0.1410002 , 0.30901728,\n",
              "        0.4399931 , 0.1472911 , 0.40386739, 0.13853478, 0.26933619],\n",
              "       [0.41532588, 0.45584045, 0.11415317, 0.25622605, 0.56154727,\n",
              "        0.799557  , 0.2676579 , 0.73390922, 0.25174588, 0.48943865],\n",
              "       [0.48580634, 0.5331962 , 0.13352487, 0.2997074 , 0.65684138,\n",
              "        0.93524116, 0.31307922, 0.858453  , 0.29446695, 0.57249599],\n",
              "       [0.45896258, 0.50373387, 0.12614681, 0.28314674, 0.6205469 ,\n",
              "        0.88356339, 0.29577969, 0.81101825, 0.27819586, 0.5408621 ]])"
            ]
          },
          "metadata": {},
          "execution_count": 106
        }
      ]
    },
    {
      "cell_type": "markdown",
      "metadata": {
        "id": "tw0WFM726wT-"
      },
      "source": [
        "#### 98. Considering a path described by two vectors (X,Y), how to sample it using equidistant samples (★★★)? \n",
        "(**hint**: np.cumsum, np.interp)"
      ]
    },
    {
      "cell_type": "code",
      "metadata": {
        "collapsed": true,
        "id": "ZTOKfdVi6wT-"
      },
      "source": [
        "# Author: Bas Swinckels\n",
        "\n",
        "phi = np.arange(0, 10*np.pi, 0.1)\n",
        "a = 1\n",
        "x = a*phi*np.cos(phi)\n",
        "y = a*phi*np.sin(phi)\n",
        "\n",
        "dr = (np.diff(x)**2 + np.diff(y)**2)**.5 # segment lengths\n",
        "r = np.zeros_like(x)\n",
        "r[1:] = np.cumsum(dr)                # integrate path\n",
        "r_int = np.linspace(0, r.max(), 200) # regular spaced path\n",
        "x_int = np.interp(r_int, r, x)       # integrate path\n",
        "y_int = np.interp(r_int, r, y)"
      ],
      "execution_count": 107,
      "outputs": []
    },
    {
      "cell_type": "markdown",
      "metadata": {
        "id": "c1p-aIPU6wT-"
      },
      "source": [
        "#### 99. Given an integer n and a 2D array X, select from X the rows which can be interpreted as draws from a multinomial distribution with n degrees, i.e., the rows which only contain integers and which sum to n. (★★★) \n",
        "(**hint**: np.logical\\_and.reduce, np.mod)"
      ]
    },
    {
      "cell_type": "code",
      "metadata": {
        "id": "zcxHJhHt6wT-",
        "colab": {
          "base_uri": "https://localhost:8080/"
        },
        "outputId": "f7c07fb9-422b-4c7f-a5e1-155b59f3147d"
      },
      "source": [
        "# Author: Evgeni Burovski\n",
        "\n",
        "X = np.asarray([[1.0, 0.0, 3.0, 8.0],\n",
        "                [2.0, 0.0, 1.0, 1.0],\n",
        "                [1.5, 2.5, 1.0, 0.0]])\n",
        "n = 4\n",
        "M = np.logical_and.reduce(np.mod(X, 1) == 0, axis=-1)\n",
        "M &= (X.sum(axis=-1) == n)\n",
        "print(X[M])"
      ],
      "execution_count": 108,
      "outputs": [
        {
          "output_type": "stream",
          "text": [
            "[[2. 0. 1. 1.]]\n"
          ],
          "name": "stdout"
        }
      ]
    },
    {
      "cell_type": "markdown",
      "metadata": {
        "id": "EJwpaG-l6wT_"
      },
      "source": [
        "#### 100. Compute bootstrapped 95% confidence intervals for the mean of a 1D array X (i.e., resample the elements of an array with replacement N times, compute the mean of each sample, and then compute percentiles over the means). (★★★) \n",
        "(**hint**: np.percentile)"
      ]
    },
    {
      "cell_type": "code",
      "metadata": {
        "id": "0tjzHpfT6wT_",
        "colab": {
          "base_uri": "https://localhost:8080/"
        },
        "outputId": "6fdf0390-7603-42fd-be3f-b4ecb772a4e4"
      },
      "source": [
        "# Author: Jessica B. Hamrick\n",
        "\n",
        "X = np.random.randn(100) # random 1D array\n",
        "N = 1000 # number of bootstrap samples\n",
        "idx = np.random.randint(0, X.size, (N, X.size))\n",
        "means = X[idx].mean(axis=1)\n",
        "confint = np.percentile(means, [2.5, 97.5])\n",
        "print(confint)"
      ],
      "execution_count": 109,
      "outputs": [
        {
          "output_type": "stream",
          "text": [
            "[-0.16476714  0.21150765]\n"
          ],
          "name": "stdout"
        }
      ]
    }
  ]
}